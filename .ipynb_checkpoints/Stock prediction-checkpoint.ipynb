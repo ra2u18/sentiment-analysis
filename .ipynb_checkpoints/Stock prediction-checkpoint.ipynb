{
 "cells": [
  {
   "cell_type": "code",
   "execution_count": 1,
   "metadata": {},
   "outputs": [
    {
     "data": {
      "text/plain": [
       "'\\nhttps://www.kaggle.com/faressayah/stock-market-analysis-prediction-using-lstm\\nWe ll be answering these questions along the way:\\n\\n1) What was the change in price of the stock over time?\\n2) What was the daily return of the stock on average?\\n3) What was the moving average of the various stocks\\n4) What was the correlation between different stocks\\n5) How much value do we put at risk by investing in a particular stock\\n6) How can we attempt to predict future stock behavior? (Predicting closing price stock price of APPLE inc using LSTM)\\n\\n'"
      ]
     },
     "execution_count": 1,
     "metadata": {},
     "output_type": "execute_result"
    }
   ],
   "source": [
    "'''\n",
    "https://www.kaggle.com/faressayah/stock-market-analysis-prediction-using-lstm\n",
    "We ll be answering these questions along the way:\n",
    "\n",
    "1) What was the change in price of the stock over time?\n",
    "2) What was the daily return of the stock on average?\n",
    "3) What was the moving average of the various stocks\n",
    "4) What was the correlation between different stocks\n",
    "5) How much value do we put at risk by investing in a particular stock\n",
    "6) How can we attempt to predict future stock behavior? (Predicting closing price stock price of APPLE inc using LSTM)\n",
    "\n",
    "'''"
   ]
  },
  {
   "cell_type": "code",
   "execution_count": null,
   "metadata": {},
   "outputs": [],
   "source": [
    "# 1.\n",
    "import pandas as pd\n",
    "import numpy as np\n",
    "\n",
    "import matplotlib.pyplot as plt\n",
    "import seaborn as sns\n",
    "\n",
    "sns.set_style('whitegrid')\n",
    "plt.style.use('fivethirtyeight')\n",
    "\n",
    "# For reading stock data from yahoo\n",
    "from pandas_datareader.data import DataReader\n",
    "\n",
    "# For time stamps\n",
    "from datetime import datetime"
   ]
  }
 ],
 "metadata": {
  "kernelspec": {
   "display_name": "Python 3",
   "language": "python",
   "name": "python3"
  },
  "language_info": {
   "codemirror_mode": {
    "name": "ipython",
    "version": 3
   },
   "file_extension": ".py",
   "mimetype": "text/x-python",
   "name": "python",
   "nbconvert_exporter": "python",
   "pygments_lexer": "ipython3",
   "version": "3.8.3"
  }
 },
 "nbformat": 4,
 "nbformat_minor": 4
}

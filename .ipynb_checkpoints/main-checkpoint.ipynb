{
 "cells": [
  {
   "cell_type": "code",
   "execution_count": 2,
   "metadata": {},
   "outputs": [
    {
     "name": "stderr",
     "output_type": "stream",
     "text": [
      "[nltk_data] Downloading package stopwords to\n",
      "[nltk_data]     /Users/riccardoandronache/nltk_data...\n",
      "[nltk_data]   Package stopwords is already up-to-date!\n",
      "[nltk_data] Downloading package wordnet to\n",
      "[nltk_data]     /Users/riccardoandronache/nltk_data...\n",
      "[nltk_data]   Package wordnet is already up-to-date!\n",
      "[nltk_data] Downloading package averaged_perceptron_tagger to\n",
      "[nltk_data]     /Users/riccardoandronache/nltk_data...\n",
      "[nltk_data]   Package averaged_perceptron_tagger is already up-to-\n",
      "[nltk_data]       date!\n",
      "<ipython-input-2-6d5240027a06>:52: FutureWarning: Passing a negative integer is deprecated in version 1.0 and will not be supported in future version. Instead, use None to not limit the column width.\n",
      "  pd.set_option('display.max_colwidth', -1)\n"
     ]
    }
   ],
   "source": [
    "# using keras tokenizer here\n",
    "import os\n",
    "import re\n",
    "import pandas as pd\n",
    "import numpy as np\n",
    "\n",
    "from pathlib import Path\n",
    "import matplotlib.pyplot as plt\n",
    "import seaborn as sns\n",
    "import scipy.stats as st\n",
    "from tqdm import tqdm\n",
    "\n",
    "import xgboost as xgb\n",
    "\n",
    "from spellchecker import SpellChecker\n",
    "\n",
    "plt.style.use('ggplot')\n",
    "\n",
    "# check if text is english\n",
    "from langdetect import detect\n",
    "\n",
    "from sklearn.svm import SVC\n",
    "from keras.models import Sequential\n",
    "from keras.layers.recurrent import LSTM, GRU\n",
    "from keras.layers.core import Dense, Activation, Dropout\n",
    "from keras.layers.embeddings import Embedding\n",
    "from keras.layers.normalization import BatchNormalization\n",
    "from keras.utils import np_utils\n",
    "from sklearn import preprocessing, decomposition, model_selection, metrics, pipeline\n",
    "from sklearn.model_selection import GridSearchCV\n",
    "from sklearn.feature_extraction.text import TfidfVectorizer, CountVectorizer\n",
    "from sklearn.decomposition import TruncatedSVD\n",
    "from sklearn.linear_model import LogisticRegression\n",
    "from sklearn.model_selection import train_test_split\n",
    "from sklearn.naive_bayes import MultinomialNB\n",
    "from keras.layers import GlobalMaxPooling1D, Conv1D, MaxPooling1D, Flatten, Bidirectional, SpatialDropout1D\n",
    "from keras.preprocessing import sequence, text\n",
    "from keras.callbacks import EarlyStopping\n",
    "\n",
    "import nltk\n",
    "nltk.download('stopwords')\n",
    "nltk.download('wordnet')\n",
    "nltk.download('averaged_perceptron_tagger')\n",
    "from nltk import word_tokenize\n",
    "from nltk.corpus import stopwords\n",
    "from nltk.util import ngrams\n",
    "from nltk.stem import WordNetLemmatizer\n",
    "from nltk.corpus import stopwords, wordnet\n",
    "\n",
    "stop=set(stopwords.words('english'))\n",
    "\n",
    "pd.set_option('display.max_colwidth', -1)\n",
    "pd.set_option('display.max_rows', None)\n",
    "\n",
    "%store -r EMOTICONS_EMO\n",
    "%store -r UNICODE_EMO\n",
    "%store -r EMOTICONS\n",
    "\n",
    "data_dir = 'data/train.txt'\n",
    "test_dir = 'data/test.'\n",
    "\n",
    "train_path = Path(data_dir)"
   ]
  },
  {
   "cell_type": "code",
   "execution_count": 3,
   "metadata": {},
   "outputs": [
    {
     "data": {
      "text/plain": [
       "14277"
      ]
     },
     "execution_count": 3,
     "metadata": {},
     "output_type": "execute_result"
    }
   ],
   "source": [
    "train_df = pd.read_csv(train_path, error_bad_lines=False, delimiter='\\t')\n",
    "len(train_df)"
   ]
  },
  {
   "cell_type": "code",
   "execution_count": 94,
   "metadata": {},
   "outputs": [
    {
     "data": {
      "text/plain": [
       "0     ¿Se acuerdan de la película: “El día después de mañana”? Me recuerda a lo que está pasando con el huracán #Sandy. http://t.co/JQQeRPwN   \n",
       "1     @milenagimon: Miren a Sandy en NY!  Tremenda imagen del huracán. Parece el \"Día de la Independencia 2\" http://t.co/41jUweux REAL! RT.    \n",
       "2     Buena la foto del Huracán Sandy, me recuerda a la película Día de la Independencia #ID4 #Sandy  http://t.co/PTdAXABZ                     \n",
       "3     Scary shit #hurricane #NY http://t.co/e4JLBUfH                                                                                           \n",
       "4     My fave place in the world #nyc #hurricane #sandy #statueofliberty 🗽 http://t.co/Ex61doZk                                                \n",
       "5     42nd #time #square #NYC #subway #hurricane http://t.co/daX5YY7X                                                                          \n",
       "6     Just in time for #halloween a photo of #hurricane #sandy #frankenstorm http://t.co/xquKB4VN                                              \n",
       "7     Crazy pic of #Hurricane #Sandy prayers go out to family and friends on the East Coast http://t.co/c4sceiMt                               \n",
       "8     #sandy #newyork #hurricane #statueofliberty #USA http://t.co/iQfEbO1E                                                                    \n",
       "9     #nyc #hurricane http://t.co/Gv3QxZlq                                                                                                     \n",
       "10    robertosalibaba  god be with u brother #sandy #hurricane #newyork http://t.co/GXheTqlO                                                   \n",
       "11    #Crazy #Hurricane #Sandy http://t.co/0zrMsgvs                                                                                            \n",
       "12    #shark #newjersey #swim #sandy #hurricane  http://t.co/2i4WuGvP                                                                       \n",
       "13    Good luck #ny #newyork #usa #hurricane #sandy http://t.co/0y435Anw                                                                       \n",
       "14    Wow.... Fishing anyone? #hurricane #sandy http://t.co/LS0Kx0zm                                                                           \n",
       "15    Well #howdy there #hurricane #sandy . Just wanted to let you know that you took my power, internet, &amp;&amp; happi http://t.co/qKxLQEmT\n",
       "16    Just known this bcs of #jason #chen updated the pic! Everyone be safe! #newyork #sandy #hurricane #nature #e http://t.co/c6VTaBkT        \n",
       "17    My thoughts and prayers go to all of the people going thru #hurricane #sandy #ct #de #ma #md #me #nc #nh #nj http://t.co/kvKzXOg1        \n",
       "18    Stay safe my New York family...#nyc #newyork #storm #hurricane #wind http://t.co/iSdoZmLs                                                \n",
       "19    New York #hurricane #Sandy http://t.co/AnrR8u7t                                                                                          \n",
       "20    Probably the coolest pic of #hurricanesandy! #hurricane #sandy #weather #storm #statueofliberty http://t.co/RCf5ZKrn                     \n",
       "21    Crazy #sandy #hurricane images. Be glad we live in the #west coast. http://t.co/c2wYXDao                                                 \n",
       "22    My cousin sent this to me... :: Cleveland voice :: We gon' die!!! ☁⚡☔🌊 #hurricane #hurricanesandy #sandy http://t.co/XtW4exLn            \n",
       "23    We forget tomb unknown soldier is guard 24/7365 ! Taken today #hurricane #sandy #frankenstorm http://t.co/mFEfmCMk                       \n",
       "24    “@DarcyPhilip #new #york #hurricane #sandy http://t.co/z82Y0Kah” Bruh                                                                    \n",
       "25    New York \"attacked\" by Sandy.  #NewYork #statueofliberty #hurricane #Sandy #dark #attack #sky #picoftheday # http://t.co/6PSNTCj9        \n",
       "26    This is sooo cute! #puupy #dog #hurricane #sandy #cute #adorable #flood #trees #golden #retriever #classic ☺ http://t.co/7nXoqVIY        \n",
       "27    empty streets #nyc #hurricane #sandy http://t.co/Uro00bM7                                                                                \n",
       "28    Shark. #Sandy #JerseyIThink #Hurricane #NYC #SomethingIsntRight #Animals #Shark #NaturalDisasterOrNot http://t.co/rylmIz5H               \n",
       "29    Craziest picture ever #hurricane http://t.co/KaF8zQPE                                                                                    \n",
       "30    #hurricane #sandy #WOW #NYC http://t.co/Gs7YMXXC                                                                                         \n",
       "31    So New York is getting a little rain... #Hurricane #Sandy http://t.co/frWrVIss                                                           \n",
       "32    The Tomb of the Unknown #Marines never take the #DayOff #Respect #NoDaysOff #Hurricane #Sandy #Superstorm http://t.co/sxsoJER6           \n",
       "33    Lord have mercy on their souls #Hurricane #Sandy #NewYork #RIP http://t.co/MYJpbl11                                                      \n",
       "34    Look at this amazing pic taken today of #sandy #NYC #NewYorkCity #LadyLiberty #Hurricane #Amazing #Weather http://t.co/H4v7NbnI          \n",
       "35    Mans best friend #love #hurricane #sandy #dog http://t.co/rJPcUYUn                                                                       \n",
       "36    #hurricane http://t.co/0ifMPBuq                                                                                                          \n",
       "37    Terrifying. #NY #hurricane #sandy #statueofliberty http://t.co/MSduqf2r                                                                  \n",
       "38    #hurricane #sandy lookin like a bag of money http://t.co/lIWWuj6U                                                                        \n",
       "39    Crazy shot of #Hurricane #Sandy http://t.co/EQRFTgbD                                                                                     \n",
       "40    wow! #hurricane #Sandy over lady liberty  http://t.co/UbNMPbru via @TwitPic                                                              \n",
       "41    UMMMM😳 #shark #hurricane #nj WOAHH http://t.co/ach2BzUW                                                                                  \n",
       "42    #amazing #photography #nature #hurricane #sandy #clouds http://t.co/04kgQRRZ                                                             \n",
       "43    So...that's a shark swimming in someone's front yard in NJ. #Sandy #shark #landshark #hurricane #fishing #be http://t.co/Vy7NOhKp        \n",
       "44    uh #hurricane #sandy #wind #blowing #cloudy #water #### # http://t.co/OVPam68k                                                      \n",
       "45    #hurricane #sandy #NY #NewYork http://t.co/EtktgqAt                                                                                      \n",
       "46    Damnnn dis joint look like those end of the world movies #repost #rp #hurricane #sandy http://t.co/6lzyWDj1                              \n",
       "47    #hurricane #sandy #NY #newyork #america #usa #sky #tube #instago #instaboy #instahub #i#instagood #instagram http://t.co/MMqpZxE8        \n",
       "48    #NewYork #Crazy #Statue #Liberty #Hurricane #Today #Nature #2012 http://t.co/wi5DuGPH                                                    \n",
       "49    😱 #shark #nyc #streets #sandy #hurricane http://t.co/NcudDwxJ                                                                            \n",
       "50    A picture someone took of a shark swimming by their house when it got flooded 😱 \\n#NewJersey #Hurricane #Sand http://t.co/OCXLWDFY       \n",
       "51    I hope the East Coast is doing well in those times. Thoughts are with y'all xo #hurricane #sandy #eastcoast http://t.co/9nKj08t8         \n",
       "52    It's gettin real out in this bitch.. #repost #sandy #hurricane #bitchimashark http://t.co/s3hfZXTY                                       \n",
       "53    #2012 #statueofliberty #NYC #world #ends #hurricane #sandy 😳😳 http://t.co/qYPMgIrH                                                       \n",
       "54    #NY #hurricane #cool http://t.co/XbXap7JQ                                                                                                \n",
       "55    The Eye of The Storm... #Hurricane #Sandy http://t.co/0mMUrbZN                                                                           \n",
       "56    #timesquare #newyork #nyc #ghostcity #hurricane #sandy http://t.co/hsVUO6Fn                                                              \n",
       "57    #newyork #hurricane #sandy http://t.co/8wcCP9c5                                                                                          \n",
       "58    Hope all my family and friends on the east coast stay safe!! #Hurricane #sandy #ilovecali #storm #clouds #ra http://t.co/dHjMlGrc        \n",
       "59    #hurricane http://t.co/RKNYPVU8                                                                                                          \n",
       "60    #Hurricane #Sandy #NYC 🌀☔🗽 http://t.co/gNLZiF29                                                                                          \n",
       "61    Still no place like it !!! RT @cruzr83: Eerie look in Manhattan. #sandy #nyc #weather #hurricane http://t.co/HKpOueN3                    \n",
       "62    WTF! LaGuardia Airport! #JetBlue #Travel #Sandy #Hurricane http://t.co/rMnIn46u                                                          \n",
       "63    #newyork I'm prayin for y'all #hurricane #sand #realimage #jesus 🙏 http://t.co/S5Daawe3                                                  \n",
       "64    #Hurricane #Sandy #NYC 🌀☔🗽 http://t.co/gNLZiF29                                                                                          \n",
       "65    Scary!!!! #newyork #hurricane #sandy #newyorkcity #ny #fuckingrun http://t.co/TyKfkMAj                                                   \n",
       "66    Que Deus proteja o Soho, a All Saints e a XL ! #Sandy #FuracãoSandy  #Hurricane #NY #EUA http://t.co/uEXducey                            \n",
       "67    #sandy #hurricane #fun #usa http://t.co/I61JSFID                                                                                         \n",
       "68    #newyork #hurricane #terrore 😱 http://t.co/ESLk0NFC                                                                                      \n",
       "69    New York gonna be screwed #sandy #hurricane #newyork #fucked http://t.co/ntKAVNu4                                                        \n",
       "70    We forget tomb unknown soldier is guard 24/7365 ! Taken today #hurricane #sandy #frankenstorm http://t.co/mFEfmCMk                       \n",
       "71    Can't decide whether it's the  #endoftheworld or just this #fucking #sandy #hurricane trying to #destroy the http://t.co/XLsHp7wC        \n",
       "72    Um #legit #shark #flood #newjersey #hurricane #sandy http://t.co/frxwbmer                                                                \n",
       "73    That is so creepy! Praying for you NY!  #hurricane #sandy #statueofliberty http://t.co/MmXzbFDP                                          \n",
       "74    THE PERFECT STORM:SANDY. #storm #nature #power #nyc #hurricane #sandy #perfect #igersnewyork #newyork #liber http://t.co/HPtWkoBg        \n",
       "75    Crazy #hurricane #nofilter http://t.co/7D5R6ir1                                                                                          \n",
       "76    la foto de helenanovellas #newyork #sandy #hurricane http://t.co/iY0W1aTU                                                                \n",
       "77    #sandy #NYC #Hurricane http://t.co/Kg9alCmy                                                                                              \n",
       "78    #hurricane #sandy #shark http://t.co/8uDQRoZv                                                                                            \n",
       "79    Yup, this definitely makes it seem like the world's ending.. #hurricane #newyork http://t.co/nSc8eVWA                                    \n",
       "80    #nyc #hurricane #sandy ☔ ☁ 🇺🇸 http://t.co/a9jKNIzd                                                                                       \n",
       "81    Hurricane Sandy looks like hell. #Sandy #hurricane #ny #newyork #storm #brutal http://t.co/4W32i4RQ                                      \n",
       "82    laurenliithiium's photo http://t.co/Eh4I06zt #nyc #hurricane                                                                             \n",
       "83    Such an awesome shot... Hope everyone's alright #hurricanesandy #hurricane #sandy #nofilter #instalikes #awe http://t.co/nSVgXNBd        \n",
       "84    So Beatiful But Yet So Tragic!!! #NewYork #Hurricane http://t.co/YGUbSiA1                                                                \n",
       "85    stay safe east coast! #hurricane #sandy #NY #NewYork http://t.co/P9UPcHCU                                                                \n",
       "86    #newyork #weather #hurricane #sandy #god #bless #audhubillah #storm #🌊☔⚡ http://t.co/a07eJIzi                                            \n",
       "87    That's cray 😳#nyc #hurricane #sandy #statueofliberty #newyorkharbor @ New York Harbor http://t.co/9nzjE5xY                               \n",
       "88    #sandy #ny #nypd #hurricane #hurricanesandy #storm #stunning http://t.co/bBRD6ReO                                                        \n",
       "89    Hurricane Sandy has arrived in NYC. #hurricane #sandy #instagreat #id4 http://t.co/u96j4PJM                                              \n",
       "90    East Coast, we all pray everything is ok and the storm would go away #amazing #picture #storm #hurricane #ny http://t.co/NyDxOm7L        \n",
       "91    #ny #new #york #usa #winter #rain #hurricane #cool #beautiful #amazing http://t.co/gDmWySs3                                              \n",
       "92    Sandy about to fuck shit up! #sandy #hurricane #hudsonriver #nyc #hurricanesandy #storm #statueofliberty #20 http://t.co/3uHRyfa8        \n",
       "93    Thoughts going out to people of America! #hurricane #sandy #thinkingofyou http://t.co/c5DDeTB7                                           \n",
       "94    #hurricane #sandy http://t.co/PtZwWQJQ                                                                                                   \n",
       "95    #sick #photo #sandy #hurricane #newyork #rain #wind #storm #omg #feest http://t.co/Shrp4KWQ                                              \n",
       "96    😳🏃💨💨💨🌊sharks in jersey!! #hurricane #sandy http://t.co/4vQxYlsT                                                                          \n",
       "97    #damn #hurricane #sandy http://t.co/PBXxmFw4                                                                                             \n",
       "98    In case u missed it. 😮😐😬 #reallife #NY #hurricane #sandy #2012 http://t.co/x3QvKfFG                                                      \n",
       "99    Independence what? #sandy #perfect #hurricane http://t.co/lq0nzPg5                                                                       \n",
       "Name: tweetText, dtype: object"
      ]
     },
     "execution_count": 94,
     "metadata": {},
     "output_type": "execute_result"
    }
   ],
   "source": [
    "train_df['tweetText'][:100]"
   ]
  },
  {
   "cell_type": "code",
   "execution_count": 95,
   "metadata": {},
   "outputs": [
    {
     "data": {
      "image/png": "[encoded data removed]",
      "text/plain": [
       "<Figure size 432x288 with 1 Axes>"
      ]
     },
     "metadata": {},
     "output_type": "display_data"
    }
   ],
   "source": [
    "# Look at the class distribution, see if the data is equally distributed\n",
    "# along the unique classes. \n",
    "\n",
    "# The answer is clear already from the countplot. The distribution between fake and real\n",
    "# twitter posts is not equal, which means some algorithms will perform bad on the data.\n",
    "\n",
    "# As you can see, the fake twitter posts far outweigh the real ones. If we train\n",
    "# a binary classification model without fixing this problem, the model\n",
    "# will be completely biased.\n",
    "\n",
    "\n",
    "sns.set(style=\"darkgrid\")\n",
    "\n",
    "ax = sns.countplot(x=\"label\", data=train_df, palette=['#fc6a6a','#4ea8ed','#79ed79'])\n",
    "for p in ax.patches:\n",
    "    height = p.get_height()\n",
    "    ax.text(p.get_x() + p.get_width()/2., height + 3, \n",
    "            '{:1.2f}'.format(height/len(train_df)), ha=\"center\")"
   ]
  },
  {
   "cell_type": "code",
   "execution_count": 96,
   "metadata": {},
   "outputs": [],
   "source": [
    "# In our case we have three classes we need to deal with. For simplicity purposes and\n",
    "# because we will use a binary classification, let's switch the humor labels into fake ones.\n",
    "\n",
    "train_df.loc[train_df['label']=='humor', 'label'] = 'fake'"
   ]
  },
  {
   "cell_type": "code",
   "execution_count": 97,
   "metadata": {},
   "outputs": [
    {
     "data": {
      "image/png": "[encoded data removed]",
      "text/plain": [
       "<Figure size 432x288 with 1 Axes>"
      ]
     },
     "metadata": {},
     "output_type": "display_data"
    }
   ],
   "source": [
    "ax = sns.countplot(x=\"label\", data=train_df, palette=['#fc6a6a', '#79ed79'])\n",
    "for p in ax.patches:\n",
    "    height = p.get_height()\n",
    "    ax.text(p.get_x() + p.get_width()/2., height + 3, \n",
    "            '{:1.2f}'.format(height/len(train_df)), ha=\"center\")"
   ]
  },
  {
   "cell_type": "code",
   "execution_count": 98,
   "metadata": {},
   "outputs": [
    {
     "data": {
      "image/png": "[encoded data removed]",
      "text/plain": [
       "<Figure size 720x360 with 2 Axes>"
      ]
     },
     "metadata": {},
     "output_type": "display_data"
    }
   ],
   "source": [
    "# The data is clearly unbalanced. We will undersample this data when we will start\n",
    "# working on our model. But for now, let's see other signals specific to the unique\n",
    "# classes\n",
    "\n",
    "fake_mask = train_df['label'] == 'fake'\n",
    "true_mask = train_df['label'] == 'real'\n",
    "\n",
    "def filter_outliers(entry, threshold):\n",
    "    return threshold if entry >= threshold else entry\n",
    "\n",
    "word_threshold = 85 # 85 words per tweet considered to be an accurate (mean) threshold\n",
    "\n",
    "fig, (ax1, ax2) = plt.subplots(1, 2, figsize=(10,5))\n",
    "\n",
    "tweet_len=train_df[fake_mask]['tweetText'].str.split().map(lambda x: len(x))\n",
    "tweet_clean = tweet_len.map(lambda x: filter_outliers(x, word_threshold))\n",
    "ax1.hist(tweet_clean, color='red', density=True, alpha=0.5, bins=82,histtype='bar')\n",
    "ax1.set_title('fake')\n",
    "\n",
    "tweet_len=train_df[true_mask]['tweetText'].str.split().map(lambda x: len(x))\n",
    "tweet_clean = tweet_len.map(lambda x: filter_outliers(x, word_threshold))\n",
    "ax2.hist(tweet_clean, color='green', density=True, alpha=0.5, bins=82,histtype='bar')\n",
    "ax2.set_title('true')\n",
    "\n",
    "fig.suptitle('Words in a tweet')\n",
    "plt.show()"
   ]
  },
  {
   "cell_type": "code",
   "execution_count": 99,
   "metadata": {},
   "outputs": [
    {
     "data": {
      "image/png": "[encoded data removed]",
      "text/plain": [
       "<Figure size 432x288 with 1 Axes>"
      ]
     },
     "metadata": {},
     "output_type": "display_data"
    }
   ],
   "source": [
    "# Here we present the fact that a word threshold of 85 is best for a gaussian to fit\n",
    "# the pdf. If we were to have a lower threshold see the changes (change word_threshold = 45)\n",
    "\n",
    "tweet_len=train_df[fake_mask]['tweetText'].str.split().map(lambda x: len(x))\n",
    "tweet_clean = tweet_len.map(lambda x: filter_outliers(x, word_threshold))\n",
    "\n",
    "plt.hist(tweet_clean, density=True, bins=82, label=\"Data\", alpha=.5, color='red')\n",
    "mn, mx = plt.xlim()\n",
    "plt.xlim(mn, mx)\n",
    "kde_xs = np.linspace(mn, mx, 300)\n",
    "kde = st.gaussian_kde(tweet_clean)\n",
    "plt.plot(kde_xs, kde.pdf(kde_xs), label=\"PDF\", color=\"grey\")\n",
    "plt.legend(loc=\"lower right\")\n",
    "plt.ylabel('Probability')\n",
    "plt.xlabel('Data')\n",
    "plt.title(\"Gaussian fake posts\");"
   ]
  },
  {
   "cell_type": "code",
   "execution_count": 100,
   "metadata": {},
   "outputs": [
    {
     "name": "stderr",
     "output_type": "stream",
     "text": [
      "/Users/riccardoandronache/Desktop/sentiment-analysis/env/lib/python3.8/site-packages/seaborn/distributions.py:2557: FutureWarning: `distplot` is a deprecated function and will be removed in a future version. Please adapt your code to use either `displot` (a figure-level function with similar flexibility) or `histplot` (an axes-level function for histograms).\n",
      "  warnings.warn(msg, FutureWarning)\n",
      "/Users/riccardoandronache/Desktop/sentiment-analysis/env/lib/python3.8/site-packages/seaborn/distributions.py:2557: FutureWarning: `distplot` is a deprecated function and will be removed in a future version. Please adapt your code to use either `displot` (a figure-level function with similar flexibility) or `histplot` (an axes-level function for histograms).\n",
      "  warnings.warn(msg, FutureWarning)\n"
     ]
    },
    {
     "data": {
      "text/plain": [
       "Text(0.5, 0.98, 'Average word length in each tweet')"
      ]
     },
     "execution_count": 100,
     "metadata": {},
     "output_type": "execute_result"
    },
    {
     "data": {
      "image/png": "[encoded data removed]",
      "text/plain": [
       "<Figure size 720x360 with 2 Axes>"
      ]
     },
     "metadata": {},
     "output_type": "display_data"
    }
   ],
   "source": [
    "# Average word length in each tweet. We can see that real tweets have more elabore\n",
    "# words, whereas fake tweets oscilate between really short words and rarely long ones.\n",
    "\n",
    "fig, (ax1, ax2) = plt.subplots(1, 2, figsize=(10,5))\n",
    "\n",
    "word = train_df[fake_mask]['tweetText'].str.split().apply(lambda x : [len(i) for i in x])\n",
    "sns.distplot(word.map(lambda x: np.mean(x)), ax = ax1, color='red')\n",
    "ax1.set_title('fake')\n",
    "\n",
    "word = train_df[true_mask]['tweetText'].str.split().apply(lambda x : [len(i) for i in x])\n",
    "sns.distplot(word.map(lambda x: np.mean(x)), ax = ax2, color='green')\n",
    "ax2.set_title('real')\n",
    "fig.suptitle('Average word length in each tweet')"
   ]
  },
  {
   "cell_type": "code",
   "execution_count": 101,
   "metadata": {},
   "outputs": [],
   "source": [
    "# Let's create a corpus of words and analyze punctuation and stop words\n",
    "from collections import defaultdict\n",
    "from collections import Counter\n",
    "\n",
    "def create_corpus(target, df):\n",
    "    corpus = []\n",
    "    for x in df[df['label'] == target]['tweetText'].str.split():\n",
    "        for i in x:\n",
    "            corpus.append(i)\n",
    "    return corpus\n",
    "\n",
    "fake_corpus = create_corpus('fake', train_df)\n",
    "real_corpus = create_corpus('real', train_df)\n",
    "\n",
    "def top_k_words(corpus, k):\n",
    "    dic = defaultdict(int)\n",
    "    for word in corpus:\n",
    "        if word in stop:\n",
    "            dic[word] += 1\n",
    "    return sorted(dic.items(), key=lambda x:x[1], reverse=True)[:k]"
   ]
  },
  {
   "cell_type": "code",
   "execution_count": 102,
   "metadata": {},
   "outputs": [
    {
     "data": {
      "text/plain": [
       "<BarContainer object of 10 artists>"
      ]
     },
     "execution_count": 102,
     "metadata": {},
     "output_type": "execute_result"
    },
    {
     "data": {
      "image/png": "[encoded data removed]",
      "text/plain": [
       "<Figure size 432x288 with 1 Axes>"
      ]
     },
     "metadata": {},
     "output_type": "display_data"
    }
   ],
   "source": [
    "# In the real posts there is a nicer distribution of stop words compared to the fake ones\n",
    "\n",
    "top_fake = top_k_words(fake_corpus, 10)\n",
    "x, y = zip(*top_fake)\n",
    "plt.bar(x, y, color='red')"
   ]
  },
  {
   "cell_type": "code",
   "execution_count": 103,
   "metadata": {},
   "outputs": [
    {
     "data": {
      "text/plain": [
       "<BarContainer object of 10 artists>"
      ]
     },
     "execution_count": 103,
     "metadata": {},
     "output_type": "execute_result"
    },
    {
     "data": {
      "image/png": "[encoded data removed]",
      "text/plain": [
       "<Figure size 432x288 with 1 Axes>"
      ]
     },
     "metadata": {},
     "output_type": "display_data"
    }
   ],
   "source": [
    "top_real = top_k_words(real_corpus, 10)\n",
    "x, y = zip(*top_real)\n",
    "plt.bar(x, y, color='green')"
   ]
  },
  {
   "cell_type": "code",
   "execution_count": 104,
   "metadata": {},
   "outputs": [],
   "source": [
    "# Analyze punctuation\n",
    "import string\n",
    "\n",
    "def punctuation_dict(corpus, k):\n",
    "    dic=defaultdict(int)\n",
    "    special = string.punctuation\n",
    "    for i in corpus:\n",
    "        if i in special:\n",
    "            dic[i] += 1\n",
    "    return sorted(dic.items(), key=lambda x:x[1], reverse=True)[:k]"
   ]
  },
  {
   "cell_type": "code",
   "execution_count": 105,
   "metadata": {},
   "outputs": [
    {
     "data": {
      "text/plain": [
       "<BarContainer object of 10 artists>"
      ]
     },
     "execution_count": 105,
     "metadata": {},
     "output_type": "execute_result"
    },
    {
     "data": {
      "image/png": "[encoded data removed]",
      "text/plain": [
       "<Figure size 1080x360 with 2 Axes>"
      ]
     },
     "metadata": {},
     "output_type": "display_data"
    }
   ],
   "source": [
    "fake_punctuation = punctuation_dict(fake_corpus, 10)\n",
    "real_punctuation = punctuation_dict(real_corpus, 10)\n",
    "\n",
    "fig, (ax1, ax2) = plt.subplots(1, 2, figsize=(15,5))\n",
    "x,y=zip(*fake_punctuation)\n",
    "ax1.bar(x, y, color='red')\n",
    "\n",
    "x,y=zip(*real_punctuation)\n",
    "ax2.bar(x, y, color='green')"
   ]
  },
  {
   "cell_type": "code",
   "execution_count": 106,
   "metadata": {},
   "outputs": [
    {
     "name": "stdout",
     "output_type": "stream",
     "text": [
      "4921\n",
      "4921\n"
     ]
    },
    {
     "name": "stderr",
     "output_type": "stream",
     "text": [
      "/Users/riccardoandronache/Desktop/sentiment-analysis/env/lib/python3.8/site-packages/seaborn/_decorators.py:36: FutureWarning: Pass the following variable as a keyword arg: x. From version 0.12, the only valid positional argument will be `data`, and passing other arguments without an explicit keyword will result in an error or misinterpretation.\n",
      "  warnings.warn(\n"
     ]
    },
    {
     "data": {
      "image/png": "[encoded data removed]",
      "text/plain": [
       "<Figure size 576x576 with 1 Axes>"
      ]
     },
     "metadata": {},
     "output_type": "display_data"
    }
   ],
   "source": [
    "# Let's unsample the data and see what punctuation is the most common in the fake twitter news\n",
    "balanced_df = train_df.copy()\n",
    "\n",
    "# shuffle dataset\n",
    "balanced_df = balanced_df.sample(frac=1, random_state=42)\n",
    "\n",
    "# put all the false twitter posts in a separate dataset\n",
    "real_df = balanced_df.loc[balanced_df['label']=='real']\n",
    "print(len(real_df))\n",
    "\n",
    "# randomly select 500 obs from the false twitter df (majority class)\n",
    "false_df = balanced_df.loc[balanced_df['label']=='fake'].sample(n=4921, random_state=42)\n",
    "\n",
    "print(len(false_df))\n",
    "\n",
    "# concatenate both dataframes again\n",
    "normalized_df = pd.concat([real_df, false_df])\n",
    "\n",
    "#plot the dataset after the undersampling\n",
    "plt.figure(figsize=(8, 8))\n",
    "sns.countplot('label', data=normalized_df,  palette=['#79ed79','#fc6a6a'])\n",
    "plt.title('Balanced Classes')\n",
    "plt.show()"
   ]
  },
  {
   "cell_type": "code",
   "execution_count": 107,
   "metadata": {},
   "outputs": [
    {
     "data": {
      "text/plain": [
       "<BarContainer object of 10 artists>"
      ]
     },
     "execution_count": 107,
     "metadata": {},
     "output_type": "execute_result"
    },
    {
     "data": {
      "image/png": "[encoded data removed]",
      "text/plain": [
       "<Figure size 1080x360 with 2 Axes>"
      ]
     },
     "metadata": {},
     "output_type": "display_data"
    }
   ],
   "source": [
    "# For this new and normalized corpus we can clearly see that users spam with @ character\n",
    "# to get more attention from the big platforms. When preprocessing we will replace\n",
    "# user mentions with USER_MENTION and use it as a feature for the nn\n",
    "\n",
    "normalized_fake_corpus = create_corpus('fake', normalized_df)\n",
    "normalized_real_corpus = create_corpus('real', normalized_df)\n",
    "\n",
    "fake_punctuation = punctuation_dict(normalized_fake_corpus, 10)\n",
    "real_punctuation = punctuation_dict(normalized_real_corpus, 10)\n",
    "\n",
    "fig, (ax1, ax2) = plt.subplots(1, 2, figsize=(15,5))\n",
    "x,y=zip(*fake_punctuation)\n",
    "ax1.bar(x, y, color='red')\n",
    "\n",
    "x,y=zip(*real_punctuation)\n",
    "ax2.bar(x, y, color='green')"
   ]
  },
  {
   "cell_type": "code",
   "execution_count": 108,
   "metadata": {},
   "outputs": [
    {
     "name": "stderr",
     "output_type": "stream",
     "text": [
      "  6%|▌         | 867/14277 [00:03<01:01, 218.59it/s]"
     ]
    },
    {
     "name": "stdout",
     "output_type": "stream",
     "text": [
      "This row throws an error\n",
      " \n"
     ]
    },
    {
     "name": "stderr",
     "output_type": "stream",
     "text": [
      "  7%|▋         | 1028/14277 [00:04<01:27, 150.86it/s]"
     ]
    },
    {
     "name": "stdout",
     "output_type": "stream",
     "text": [
      "This row throws an error\n",
      " \n"
     ]
    },
    {
     "name": "stderr",
     "output_type": "stream",
     "text": [
      "  7%|▋         | 1064/14277 [00:05<01:28, 149.79it/s]"
     ]
    },
    {
     "name": "stdout",
     "output_type": "stream",
     "text": [
      "This row throws an error\n",
      " \n"
     ]
    },
    {
     "name": "stderr",
     "output_type": "stream",
     "text": [
      " 10%|▉         | 1374/14277 [00:06<01:13, 175.14it/s]"
     ]
    },
    {
     "name": "stdout",
     "output_type": "stream",
     "text": [
      "This row throws an error\n",
      " \n"
     ]
    },
    {
     "name": "stderr",
     "output_type": "stream",
     "text": [
      " 22%|██▏       | 3092/14277 [00:15<00:51, 217.35it/s]"
     ]
    },
    {
     "name": "stdout",
     "output_type": "stream",
     "text": [
      "This row throws an error\n",
      " \n"
     ]
    },
    {
     "name": "stderr",
     "output_type": "stream",
     "text": [
      " 24%|██▍       | 3466/14277 [00:17<00:57, 187.56it/s]"
     ]
    },
    {
     "name": "stdout",
     "output_type": "stream",
     "text": [
      "This row throws an error\n",
      " \n",
      "This row throws an error\n",
      " \n",
      "This row throws an error\n",
      " \n"
     ]
    },
    {
     "name": "stderr",
     "output_type": "stream",
     "text": [
      " 25%|██▍       | 3554/14277 [00:18<00:58, 183.73it/s]"
     ]
    },
    {
     "name": "stdout",
     "output_type": "stream",
     "text": [
      "This row throws an error\n",
      " \n"
     ]
    },
    {
     "name": "stderr",
     "output_type": "stream",
     "text": [
      " 25%|██▌       | 3613/14277 [00:18<01:01, 174.67it/s]"
     ]
    },
    {
     "name": "stdout",
     "output_type": "stream",
     "text": [
      "This row throws an error\n",
      " \n",
      "This row throws an error\n",
      " \n"
     ]
    },
    {
     "name": "stderr",
     "output_type": "stream",
     "text": [
      " 27%|██▋       | 3820/14277 [00:19<01:14, 139.89it/s]"
     ]
    },
    {
     "name": "stdout",
     "output_type": "stream",
     "text": [
      "This row throws an error\n",
      " \n",
      "This row throws an error\n",
      " \n",
      "This row throws an error\n",
      " \n"
     ]
    },
    {
     "name": "stderr",
     "output_type": "stream",
     "text": [
      " 27%|██▋       | 3878/14277 [00:20<01:02, 165.25it/s]"
     ]
    },
    {
     "name": "stdout",
     "output_type": "stream",
     "text": [
      "This row throws an error\n",
      " \n"
     ]
    },
    {
     "name": "stderr",
     "output_type": "stream",
     "text": [
      " 33%|███▎      | 4658/14277 [00:24<00:57, 166.07it/s]"
     ]
    },
    {
     "name": "stdout",
     "output_type": "stream",
     "text": [
      "This row throws an error\n",
      " \n",
      "This row throws an error\n",
      " \n"
     ]
    },
    {
     "name": "stderr",
     "output_type": "stream",
     "text": [
      " 43%|████▎     | 6160/14277 [00:32<00:55, 147.39it/s]"
     ]
    },
    {
     "name": "stdout",
     "output_type": "stream",
     "text": [
      "This row throws an error\n",
      " \n"
     ]
    },
    {
     "name": "stderr",
     "output_type": "stream",
     "text": [
      " 44%|████▍     | 6349/14277 [00:33<00:54, 145.22it/s]"
     ]
    },
    {
     "name": "stdout",
     "output_type": "stream",
     "text": [
      "This row throws an error\n",
      " \n"
     ]
    },
    {
     "name": "stderr",
     "output_type": "stream",
     "text": [
      " 46%|████▌     | 6551/14277 [00:35<00:40, 192.39it/s]"
     ]
    },
    {
     "name": "stdout",
     "output_type": "stream",
     "text": [
      "This row throws an error\n",
      " \n"
     ]
    },
    {
     "name": "stderr",
     "output_type": "stream",
     "text": [
      " 57%|█████▋    | 8094/14277 [00:41<00:29, 211.68it/s]"
     ]
    },
    {
     "name": "stdout",
     "output_type": "stream",
     "text": [
      "This row throws an error\n",
      " \n"
     ]
    },
    {
     "name": "stderr",
     "output_type": "stream",
     "text": [
      " 59%|█████▉    | 8441/14277 [00:43<00:35, 166.11it/s]"
     ]
    },
    {
     "name": "stdout",
     "output_type": "stream",
     "text": [
      "This row throws an error\n",
      " \n"
     ]
    },
    {
     "name": "stderr",
     "output_type": "stream",
     "text": [
      " 76%|███████▋  | 10887/14277 [00:55<00:19, 178.05it/s]"
     ]
    },
    {
     "name": "stdout",
     "output_type": "stream",
     "text": [
      "This row throws an error\n",
      " \n"
     ]
    },
    {
     "name": "stderr",
     "output_type": "stream",
     "text": [
      " 84%|████████▍ | 12029/14277 [01:03<00:13, 171.03it/s]"
     ]
    },
    {
     "name": "stdout",
     "output_type": "stream",
     "text": [
      "This row throws an error\n",
      " \n"
     ]
    },
    {
     "name": "stderr",
     "output_type": "stream",
     "text": [
      " 87%|████████▋ | 12380/14277 [01:05<00:09, 210.57it/s]"
     ]
    },
    {
     "name": "stdout",
     "output_type": "stream",
     "text": [
      "This row throws an error\n",
      " \n"
     ]
    },
    {
     "name": "stderr",
     "output_type": "stream",
     "text": [
      " 97%|█████████▋| 13849/14277 [01:13<00:01, 248.25it/s]"
     ]
    },
    {
     "name": "stdout",
     "output_type": "stream",
     "text": [
      "This row throws an error\n",
      " \n",
      "This row throws an error\n",
      " \n"
     ]
    },
    {
     "name": "stderr",
     "output_type": "stream",
     "text": [
      " 97%|█████████▋| 13899/14277 [01:13<00:01, 221.42it/s]"
     ]
    },
    {
     "name": "stdout",
     "output_type": "stream",
     "text": [
      "This row throws an error\n",
      " \n",
      "This row throws an error\n",
      " \n"
     ]
    },
    {
     "name": "stderr",
     "output_type": "stream",
     "text": [
      " 99%|█████████▉| 14188/14277 [01:14<00:00, 231.95it/s]"
     ]
    },
    {
     "name": "stdout",
     "output_type": "stream",
     "text": [
      "This row throws an error\n",
      " \n",
      "This row throws an error\n",
      " \n"
     ]
    },
    {
     "name": "stderr",
     "output_type": "stream",
     "text": [
      "100%|██████████| 14277/14277 [01:15<00:00, 189.88it/s]\n"
     ]
    }
   ],
   "source": [
    "# It's preprocessing time\n",
    "from textblob import TextBlob\n",
    "# 1) Detect language of the post and filter out non-english posts\n",
    "\n",
    "languages = []\n",
    "language_punctuation = string.punctuation + '¿“”»«•'\n",
    "count_failed_trans = 0\n",
    "emoji_pattern = re.compile(\"[\"\n",
    "        u\"\\U0001F600-\\U0001F64F\"  # emoticons\n",
    "        u\"\\U0001F300-\\U0001F5FF\"  # symbols & pictographs\n",
    "        u\"\\U0001F680-\\U0001F6FF\"  # transport & map symbols\n",
    "        u\"\\U0001F1E0-\\U0001F1FF\"  # flags (iOS)\n",
    "                           \"]+\", flags=re.UNICODE)\n",
    "\n",
    "''' Custom function to check for valid words '''\n",
    "def is_valid_word(word):\n",
    "    return (re.search(r'^[a-zA-Z][a-z0-9A-Z\\._]*$', word) is not None)\n",
    "\n",
    "''' Custom function to remove the punctuation '''\n",
    "def remove_punctuation(tweet, punctuation):\n",
    "    return tweet.translate(str.maketrans('', '', punctuation))\n",
    "\n",
    "def de_emojify(tweet):\n",
    "    return emoji_pattern.sub(r'', tweet)\n",
    "\n",
    "def guess_language(tweet):\n",
    "    # Lower case\n",
    "    tweet = tweet.lower()\n",
    "    # Remove URLs, User mentions, RT\n",
    "    tweet = re.sub(r'https?://\\S+', '', tweet)\n",
    "    tweet = re.sub(r'@[\\S]+', '', tweet)\n",
    "    tweet = re.sub(r'\\brt\\b', '', tweet)\n",
    "    # Remove punctuation\n",
    "    tweet = remove_punctuation(tweet, language_punctuation)\n",
    "    # Remove emojis and strip end and beginning white spaces\n",
    "    tweet = de_emojify(tweet).strip()\n",
    "    # Filter out non-valid words\n",
    "    valid_words = []\n",
    "    \n",
    "    try:\n",
    "        words = tweet.split()\n",
    "        for word in words:\n",
    "            if is_valid_word(word):\n",
    "                valid_words.append(word)\n",
    "        normalized_tweet = ' '.join(valid_words)\n",
    "        language = detect(normalized_tweet)\n",
    "    except:\n",
    "        language = 'unknown'\n",
    "        print(f'This row throws an error\\n {normalized_tweet}')\n",
    "    \n",
    "    return language\n",
    "\n",
    "languages = [guess_language(x) for x in tqdm(train_df['tweetText'])]"
   ]
  },
  {
   "cell_type": "code",
   "execution_count": 109,
   "metadata": {},
   "outputs": [
    {
     "name": "stdout",
     "output_type": "stream",
     "text": [
      "Total number of unknown tweet languages is 31\n"
     ]
    }
   ],
   "source": [
    "nr = 0\n",
    "\n",
    "for lan in languages:\n",
    "    if lan == 'unknown':\n",
    "        nr += 1\n",
    "print(f'Total number of unknown tweet languages is {nr}')"
   ]
  },
  {
   "cell_type": "code",
   "execution_count": 110,
   "metadata": {},
   "outputs": [
    {
     "name": "stdout",
     "output_type": "stream",
     "text": [
      "Original dataset length 14277 \n",
      "\n",
      "Only english tweets dataset length 10284 \n",
      "\n",
      "fake    6433\n",
      "real    3851\n",
      "Name: label, dtype: int64\n"
     ]
    }
   ],
   "source": [
    "# We discarded almost 4000 tweets for not being written in english\n",
    "\n",
    "train_df['language'] = languages\n",
    "train_en_df = train_df[train_df['language'] == 'en'].copy()\n",
    "\n",
    "print(f'Original dataset length {len(train_df)} \\n')\n",
    "print(f'Only english tweets dataset length {len(train_en_df)} \\n')\n",
    "\n",
    "print(train_en_df.label.value_counts())"
   ]
  },
  {
   "cell_type": "code",
   "execution_count": 111,
   "metadata": {},
   "outputs": [],
   "source": [
    "preprocess_tweet_punc = string.punctuation.replace('#', '')\n",
    "\n",
    "# Search for most common words\n",
    "def most_common_words_c(data):\n",
    "    cnt = Counter()\n",
    "    for text in data['tweetText'].values:\n",
    "        for word in text.split():\n",
    "            cnt[word] += 1\n",
    "    return cnt\n",
    "\n",
    "# Spell corrector\n",
    "spell = SpellChecker()\n",
    "def correct_spellings(tweet):\n",
    "    corrected_text = []\n",
    "    misspelled_words = spell.unknown(tweet.split())\n",
    "    for word in tweet.split():\n",
    "        if is_valid_word(word) and word in misspelled_words:\n",
    "            corrected_text.append(spell.correction(word))\n",
    "        else:\n",
    "            corrected_text.append(word)\n",
    "    return \" \".join(corrected_text)\n",
    "\n",
    "# Remove stop words\n",
    "STOPWORDS = set(stopwords.words('english'))\n",
    "def remove_stopwords(tweet):\n",
    "    ''' custom function to remove the stopwords '''\n",
    "    return \" \".join([word for word in str(tweet).split() if word not in STOPWORDS])\n",
    "\n",
    "# Remove rare words\n",
    "def find_rare_words(data, n_rare_words):\n",
    "    cnt = most_common_words_c(data)\n",
    "    return set([w for (w, wc) in cnt.most_common()[:-n_rare_words-1:-1]])\n",
    "\n",
    "def remove_rarewords(tweet, rare_words):\n",
    "    \"\"\"custom function to remove the rare words\"\"\"\n",
    "    words = str(tweet).split()\n",
    "    result = \"\"\n",
    "    \n",
    "    for word in words: \n",
    "        if word not in rare_words:\n",
    "            result = result + word + \" \"\n",
    "    return result.strip()\n",
    "    #return \" \".join([word for word in str(tweet).split() if word not in RAREWORDS])\n",
    "\n",
    "# bring words to their simplest form\n",
    "lemmatizer = WordNetLemmatizer()\n",
    "wordnet_map = {\"N\":wordnet.NOUN, \"V\":wordnet.VERB, \"J\":wordnet.ADJ, \"R\":wordnet.ADV}\n",
    "\n",
    "def lemmatize_words(tweet):\n",
    "    pos_tagged_text = nltk.pos_tag(tweet.split())\n",
    "    return \" \".join([lemmatizer.lemmatize(word, wordnet_map.get(pos[0], wordnet.NOUN))\n",
    "                    for word, pos in pos_tagged_text])\n",
    "\n",
    "# Convert emoticons to words\n",
    "def convert_emoticons(tweet):\n",
    "    for emot in EMOTICONS:\n",
    "        tweet = re.sub(u'('+emot+')', \"_\".join(EMOTICONS[emot].replace(\",\",\"\").split()), tweet)\n",
    "    return tweet\n",
    "\n",
    "# Convert emojis to words\n",
    "def convert_emojis(tweet):\n",
    "    for emot in UNICODE_EMO:\n",
    "        tweet = re.sub(u'('+re.escape(emot)+')',' ' + UNICODE_EMO[emot].replace(\":\",\"\") + ' ', tweet)\n",
    "    return tweet\n",
    "\n",
    "# Convert more than 2 letter repetitions to 2 letter\n",
    "# funnnnny --> funny\n",
    "def preprocess_word(word):\n",
    "    word = re.sub(r'(.)\\1+', r'\\1\\1', word)\n",
    "    return word\n",
    "\n",
    "rare_words = set()\n",
    "\n",
    "def preprocess_tweet(data, tweet):\n",
    "    preprocessed_tweet = []\n",
    "    global rare_words\n",
    "    \n",
    "    if len(rare_words) == 0:\n",
    "        print(\"Empty rare_words, creating one...\")\n",
    "        rare_words = find_rare_words(data, 10)\n",
    "\n",
    "    # Convert to lower case\n",
    "    tweet = tweet.lower()\n",
    "    # Replaces URLs with the word URL\n",
    "    tweet = re.sub(r'https?://\\S+', ' URL ', tweet)\n",
    "    # Replace @handle with the word USER_MENTION\n",
    "    tweet = re.sub(r'@[\\S]+', 'USER_MENTION', tweet)\n",
    "    # Remove RT (retweet)\n",
    "    tweet = re.sub(r'\\brt\\b', '', tweet)\n",
    "    # Remove punctuation\n",
    "    tweet = remove_punctuation(tweet, preprocess_tweet_punc)\n",
    "    # Spell check\n",
    "    tweet = correct_spellings(tweet)\n",
    "    # Remove hashes\n",
    "    tweet = tweet.replace('#', '')\n",
    "    # Remove stopwords\n",
    "    tweet = remove_stopwords(tweet)\n",
    "    # Remove rare words // expensive operation, compute it once\n",
    "    tweet = remove_rarewords(tweet, rare_words)\n",
    "    # Lemmatize words\n",
    "    tweet = lemmatize_words(tweet)\n",
    "    # Convert emoticons to words\n",
    "    tweet = convert_emoticons(tweet)\n",
    "    # Convert emoticons to words\n",
    "    tweet = convert_emojis(tweet)\n",
    "    \n",
    "    # Check if the words are valid, remove malformed words\n",
    "    words = tweet.split()\n",
    "    \n",
    "    for word in words:\n",
    "        word = preprocess_word(word)\n",
    "        if is_valid_word(word):\n",
    "            preprocessed_tweet.append(word)\n",
    "            \n",
    "    output = ' '.join(preprocessed_tweet)\n",
    "    \n",
    "    # Lower the output again\n",
    "    return output.lower()"
   ]
  },
  {
   "cell_type": "code",
   "execution_count": 113,
   "metadata": {},
   "outputs": [
    {
     "name": "stdout",
     "output_type": "stream",
     "text": [
      "Empty rare_words, creating one...\n"
     ]
    },
    {
     "data": {
      "text/plain": [
       "3     scary shit hurricane ny url                                               \n",
       "4     fave place world nyc hurricane sandy statueofliberty statue_of_liberty url\n",
       "5     time square nyc subway hurricane url                                      \n",
       "6     time halloween photo hurricane sandy frankenstorm url                     \n",
       "7     crazy pic hurricane sandy prayer go family friend east coast url          \n",
       "8     sandy newyork hurricane statueofliberty usa url                           \n",
       "9     nyc hurricane url                                                         \n",
       "10    robertosalibaba god u brother sandy hurricane newyork url                 \n",
       "11    crazy hurricane sandy url                                                 \n",
       "12    shark newjersey swim sandy hurricane url                                  \n",
       "Name: preprocessed_text, dtype: object"
      ]
     },
     "execution_count": 113,
     "metadata": {},
     "output_type": "execute_result"
    }
   ],
   "source": [
    "# Preprocess every tweet\n",
    "train_en_df['preprocessed_text'] = train_en_df['tweetText'].apply(lambda tweet: preprocess_tweet(train_en_df,tweet))\n",
    "train_en_df['preprocessed_text'][:10]"
   ]
  },
  {
   "cell_type": "code",
   "execution_count": 115,
   "metadata": {},
   "outputs": [
    {
     "name": "stderr",
     "output_type": "stream",
     "text": [
      "/Users/riccardoandronache/Desktop/sentiment-analysis/env/lib/python3.8/site-packages/seaborn/_decorators.py:36: FutureWarning: Pass the following variable as a keyword arg: x. From version 0.12, the only valid positional argument will be `data`, and passing other arguments without an explicit keyword will result in an error or misinterpretation.\n",
      "  warnings.warn(\n"
     ]
    },
    {
     "data": {
      "image/png": "[encoded data removed]",
      "text/plain": [
       "<Figure size 576x576 with 1 Axes>"
      ]
     },
     "metadata": {},
     "output_type": "display_data"
    }
   ],
   "source": [
    "# Last time we have trained our model on the unbalanced data, let's now see how it \n",
    "# performs on normalized data\n",
    "\n",
    "balanced_en_df = train_en_df.copy()\n",
    "\n",
    "# shuffle dataset\n",
    "balanced_en_df = balanced_en_df.sample(frac=1, random_state=42)\n",
    "\n",
    "# put all real twitter posts in a separate dataset\n",
    "real_en_df = balanced_en_df.loc[balanced_en_df['label'] == 'real']\n",
    "false_en_df = balanced_en_df.loc[balanced_en_df['label']=='fake'].sample(n=len(real_en_df), random_state=42)\n",
    "\n",
    "normalized_en_df = pd.concat([real_en_df, false_en_df])\n",
    "\n",
    "#plot the dataset after the undersampling\n",
    "plt.figure(figsize=(8, 8))\n",
    "sns.countplot('label', data=normalized_en_df,  palette=['#79ed79','#fc6a6a'])\n",
    "plt.title('Balanced Classes')\n",
    "plt.show()"
   ]
  },
  {
   "cell_type": "code",
   "execution_count": 312,
   "metadata": {},
   "outputs": [
    {
     "name": "stdout",
     "output_type": "stream",
     "text": [
      "Requirement already satisfied: transformers in ./env/lib/python3.8/site-packages (4.1.1)\n",
      "Requirement already satisfied: filelock in ./env/lib/python3.8/site-packages (from transformers) (3.0.12)\n",
      "Requirement already satisfied: packaging in ./env/lib/python3.8/site-packages (from transformers) (20.8)\n",
      "Requirement already satisfied: sacremoses in ./env/lib/python3.8/site-packages (from transformers) (0.0.43)\n",
      "Requirement already satisfied: regex!=2019.12.17 in ./env/lib/python3.8/site-packages (from transformers) (2020.11.13)\n",
      "Requirement already satisfied: tqdm>=4.27 in ./env/lib/python3.8/site-packages (from transformers) (4.55.0)\n",
      "Requirement already satisfied: tokenizers==0.9.4 in ./env/lib/python3.8/site-packages (from transformers) (0.9.4)\n",
      "Requirement already satisfied: numpy in ./env/lib/python3.8/site-packages (from transformers) (1.19.4)\n",
      "Requirement already satisfied: requests in ./env/lib/python3.8/site-packages (from transformers) (2.25.1)\n",
      "Requirement already satisfied: pyparsing>=2.0.2 in ./env/lib/python3.8/site-packages (from packaging->transformers) (2.4.7)\n",
      "Requirement already satisfied: chardet<5,>=3.0.2 in ./env/lib/python3.8/site-packages (from requests->transformers) (4.0.0)\n",
      "Requirement already satisfied: urllib3<1.27,>=1.21.1 in ./env/lib/python3.8/site-packages (from requests->transformers) (1.26.2)\n",
      "Requirement already satisfied: certifi>=2017.4.17 in ./env/lib/python3.8/site-packages (from requests->transformers) (2020.12.5)\n",
      "Requirement already satisfied: idna<3,>=2.5 in ./env/lib/python3.8/site-packages (from requests->transformers) (2.10)\n",
      "Requirement already satisfied: six in ./env/lib/python3.8/site-packages (from sacremoses->transformers) (1.15.0)\n",
      "Requirement already satisfied: joblib in ./env/lib/python3.8/site-packages (from sacremoses->transformers) (1.0.0)\n",
      "Requirement already satisfied: click in ./env/lib/python3.8/site-packages (from sacremoses->transformers) (7.1.2)\n",
      "Collecting torch\n",
      "  Using cached torch-1.7.1-cp38-none-macosx_10_9_x86_64.whl (108.9 MB)\n",
      "Requirement already satisfied: numpy in ./env/lib/python3.8/site-packages (from torch) (1.19.4)\n",
      "Requirement already satisfied: typing-extensions in ./env/lib/python3.8/site-packages (from torch) (3.7.4.3)\n",
      "Installing collected packages: torch\n",
      "Successfully installed torch-1.7.1\n"
     ]
    }
   ],
   "source": [
    "# Transfer Learning BERT\n",
    "\n",
    "!pip install transformers\n",
    "!pip install torch"
   ]
  },
  {
   "cell_type": "code",
   "execution_count": 313,
   "metadata": {},
   "outputs": [],
   "source": [
    "import torch\n",
    "import torch.nn as nn\n",
    "\n",
    "import transformers\n",
    "from transformers import AutoModel, BertTokenizerFast\n",
    "\n",
    "# specify GPU\n",
    "device = torch.device(\"cuda\")"
   ]
  },
  {
   "cell_type": "code",
   "execution_count": 316,
   "metadata": {},
   "outputs": [
    {
     "data": {
      "application/vnd.jupyter.widget-view+json": {
       "model_id": "7f27d467fcf44baea50b49d07dd62980",
       "version_major": 2,
       "version_minor": 0
      },
      "text/plain": [
       "Downloading:   0%|          | 0.00/433 [00:00<?, ?B/s]"
      ]
     },
     "metadata": {},
     "output_type": "display_data"
    },
    {
     "data": {
      "application/vnd.jupyter.widget-view+json": {
       "model_id": "8990bc96b4b749008ec3c9cebbd8f416",
       "version_major": 2,
       "version_minor": 0
      },
      "text/plain": [
       "Downloading:   0%|          | 0.00/440M [00:00<?, ?B/s]"
      ]
     },
     "metadata": {},
     "output_type": "display_data"
    },
    {
     "data": {
      "application/vnd.jupyter.widget-view+json": {
       "model_id": "5cc7fff51c0e44a5ad031ac7d50c7107",
       "version_major": 2,
       "version_minor": 0
      },
      "text/plain": [
       "Downloading:   0%|          | 0.00/232k [00:00<?, ?B/s]"
      ]
     },
     "metadata": {},
     "output_type": "display_data"
    },
    {
     "data": {
      "application/vnd.jupyter.widget-view+json": {
       "model_id": "c5c7c7e737c74a07bd1c7d965af9f181",
       "version_major": 2,
       "version_minor": 0
      },
      "text/plain": [
       "Downloading:   0%|          | 0.00/466k [00:00<?, ?B/s]"
      ]
     },
     "metadata": {},
     "output_type": "display_data"
    }
   ],
   "source": [
    "lbl_enc = preprocessing.LabelEncoder()\n",
    "y = lbl_enc.fit_transform(train_en_df.label.values)\n",
    "\n",
    "xtrain, xvalid, ytrain, yvalid = train_test_split(train_en_df.preprocessed_text.values, y, stratify=y,\n",
    "                                                  random_state=42, test_size=.1, shuffle=True)\n",
    "\n",
    "# import BERT-base pretrained model\n",
    "bert = AutoModel.from_pretrained('bert-base-uncased')\n",
    "\n",
    "# Load the BERT tokenizer\n",
    "tokenizer = BertTokenizerFast.from_pretrained('bert-base-uncased')"
   ]
  },
  {
   "cell_type": "code",
   "execution_count": 336,
   "metadata": {},
   "outputs": [
    {
     "data": {
      "text/plain": [
       "<AxesSubplot:>"
      ]
     },
     "execution_count": 336,
     "metadata": {},
     "output_type": "execute_result"
    },
    {
     "data": {
      "image/png": "[encoded data removed]",
      "text/plain": [
       "<Figure size 432x288 with 1 Axes>"
      ]
     },
     "metadata": {},
     "output_type": "display_data"
    }
   ],
   "source": [
    "# get length of all the messages in the train set\n",
    "seq_len = [len(i.split()) for i in xtrain]\n",
    "\n",
    "def explicit(l):\n",
    "    max_val = max(l)\n",
    "    max_idx = l.index(max_val)\n",
    "    return max_idx, max_val\n",
    "\n",
    "\n",
    "threshold = 75\n",
    "\n",
    "def filter_outliers(x):\n",
    "    return threshold if x >= threshold else x\n",
    "\n",
    "z = list(map(filter_outliers, seq_len))\n",
    "\n",
    "pd.Series(z).hist(bins = 30)"
   ]
  },
  {
   "cell_type": "markdown",
   "metadata": {},
   "source": [
    "# tokenize and encode sequnces in training and validation set"
   ]
  },
  {
   "cell_type": "code",
   "execution_count": 9,
   "metadata": {},
   "outputs": [
    {
     "name": "stdout",
     "output_type": "stream",
     "text": [
      "(9202,) (1023,)\n"
     ]
    }
   ],
   "source": [
    "from app.constants import DATA\n",
    "\n",
    "# Deep learning\n",
    "train_dataset = pd.read_pickle(DATA['unbalanced_train'])\n",
    "\n",
    "# Create dataset\n",
    "lbl_enc = preprocessing.LabelEncoder()\n",
    "y = lbl_enc.fit_transform(train_dataset.label.values)\n",
    "\n",
    "xtrain, xvalid, ytrain, yvalid = train_test_split(train_dataset.preprocessed_tweets.values, y, stratify=y,\n",
    "                                                  random_state=42, test_size=.1, shuffle=True)\n",
    "print(xtrain.shape, xvalid.shape)"
   ]
  },
  {
   "cell_type": "code",
   "execution_count": 10,
   "metadata": {},
   "outputs": [
    {
     "name": "stdout",
     "output_type": "stream",
     "text": [
      "<class 'scipy.sparse.csr.csr_matrix'>\n"
     ]
    }
   ],
   "source": [
    "# Building a basic model tf-idf followed by logistic regr\n",
    "# Always start with these features. They work (almost) everytime!\n",
    "tfv = TfidfVectorizer(max_features=None, \n",
    "            strip_accents='unicode', analyzer='word',token_pattern=r'\\w{1,}',\n",
    "            ngram_range=(1, 3), use_idf=1,smooth_idf=1,sublinear_tf=1)\n",
    "\n",
    "# Fitting TF-IDF to both training and test sets (semi-supervised learning)\n",
    "tfv.fit(list(xtrain) + list(xvalid))\n",
    "xtrain_tfv =  tfv.transform(xtrain) \n",
    "xvalid_tfv = tfv.transform(xvalid)\n",
    "\n",
    "print(type(xtrain_tfv))"
   ]
  },
  {
   "cell_type": "code",
   "execution_count": 11,
   "metadata": {},
   "outputs": [
    {
     "name": "stdout",
     "output_type": "stream",
     "text": [
      "logloss: 0.331 \n",
      "f1 score: 0.838\n"
     ]
    }
   ],
   "source": [
    "from sklearn.linear_model import LogisticRegression\n",
    "from sklearn.metrics import f1_score\n",
    "\n",
    "# Multi-class log-loss as evaluation metric\n",
    "def multiclass_logloss(actual, predicted, eps=1e-15):\n",
    "    \"\"\"Multi class version of Logarithmic Loss metric.\n",
    "    :param actual: Array containing the actual target classes\n",
    "    :param predicted: Matrix with class predictions, one probability per class\n",
    "    \"\"\"\n",
    "    # Convert 'actual' to a binary array if it's not already:\n",
    "    if len(actual.shape) == 1:\n",
    "        actual2 = np.zeros((actual.shape[0], predicted.shape[1]))\n",
    "        for i, val in enumerate(actual):\n",
    "            actual2[i, val] = 1\n",
    "        actual = actual2\n",
    "\n",
    "    clip = np.clip(predicted, eps, 1 - eps)\n",
    "    rows = actual.shape[0]\n",
    "    vsota = np.sum(actual * np.log(clip))\n",
    "    return -1.0 / rows * vsota\n",
    "\n",
    "# Fitting a simple Logistic Regression on TFIDF\n",
    "lr = LogisticRegression(C=1.0)\n",
    "lr.fit(xtrain_tfv, ytrain)\n",
    "predictions = lr.predict_proba(xvalid_tfv)\n",
    "fscore_pred = lr.predict(xvalid_tfv)\n",
    "\n",
    "print (\"logloss: %0.3f \" % multiclass_logloss(yvalid, predictions))\n",
    "print (\"f1 score: %0.3f\" % f1_score(yvalid, fscore_pred))"
   ]
  },
  {
   "cell_type": "code",
   "execution_count": 299,
   "metadata": {},
   "outputs": [
    {
     "ename": "ValueError",
     "evalue": "Found input variables with inconsistent numbers of samples: [9255, 6931]",
     "output_type": "error",
     "traceback": [
      "\u001b[0;31m---------------------------------------------------------------------------\u001b[0m",
      "\u001b[0;31mValueError\u001b[0m                                Traceback (most recent call last)",
      "\u001b[0;32m<ipython-input-299-e96d05c58c89>\u001b[0m in \u001b[0;36m<module>\u001b[0;34m\u001b[0m\n\u001b[1;32m      6\u001b[0m \u001b[0mmodel\u001b[0m \u001b[0;34m=\u001b[0m \u001b[0mGridSearchCV\u001b[0m\u001b[0;34m(\u001b[0m\u001b[0mestimator\u001b[0m\u001b[0;34m=\u001b[0m\u001b[0mclf\u001b[0m\u001b[0;34m,\u001b[0m \u001b[0mparam_grid\u001b[0m\u001b[0;34m=\u001b[0m\u001b[0mparam_grid\u001b[0m\u001b[0;34m,\u001b[0m \u001b[0mn_jobs\u001b[0m\u001b[0;34m=\u001b[0m\u001b[0;34m-\u001b[0m\u001b[0;36m1\u001b[0m\u001b[0;34m,\u001b[0m \u001b[0mrefit\u001b[0m\u001b[0;34m=\u001b[0m\u001b[0;32mTrue\u001b[0m\u001b[0;34m,\u001b[0m \u001b[0mcv\u001b[0m\u001b[0;34m=\u001b[0m\u001b[0;36m2\u001b[0m\u001b[0;34m)\u001b[0m\u001b[0;34m\u001b[0m\u001b[0;34m\u001b[0m\u001b[0m\n\u001b[1;32m      7\u001b[0m \u001b[0;34m\u001b[0m\u001b[0m\n\u001b[0;32m----> 8\u001b[0;31m \u001b[0mmodel\u001b[0m\u001b[0;34m.\u001b[0m\u001b[0mfit\u001b[0m\u001b[0;34m(\u001b[0m\u001b[0mxtrain_ctv\u001b[0m\u001b[0;34m,\u001b[0m \u001b[0mytrain\u001b[0m\u001b[0;34m)\u001b[0m\u001b[0;34m\u001b[0m\u001b[0;34m\u001b[0m\u001b[0m\n\u001b[0m\u001b[1;32m      9\u001b[0m \u001b[0mprint\u001b[0m\u001b[0;34m(\u001b[0m\u001b[0;34m\"Best score: %0.3f\"\u001b[0m \u001b[0;34m%\u001b[0m \u001b[0mmodel\u001b[0m\u001b[0;34m.\u001b[0m\u001b[0mbest_score_\u001b[0m\u001b[0;34m)\u001b[0m\u001b[0;34m\u001b[0m\u001b[0;34m\u001b[0m\u001b[0m\n\u001b[1;32m     10\u001b[0m \u001b[0mprint\u001b[0m\u001b[0;34m(\u001b[0m\u001b[0;34m\"Best parameters set:\"\u001b[0m\u001b[0;34m)\u001b[0m\u001b[0;34m\u001b[0m\u001b[0;34m\u001b[0m\u001b[0m\n",
      "\u001b[0;32m~/Desktop/sentiment-analysis/env/lib/python3.8/site-packages/sklearn/utils/validation.py\u001b[0m in \u001b[0;36minner_f\u001b[0;34m(*args, **kwargs)\u001b[0m\n\u001b[1;32m     61\u001b[0m             \u001b[0mextra_args\u001b[0m \u001b[0;34m=\u001b[0m \u001b[0mlen\u001b[0m\u001b[0;34m(\u001b[0m\u001b[0margs\u001b[0m\u001b[0;34m)\u001b[0m \u001b[0;34m-\u001b[0m \u001b[0mlen\u001b[0m\u001b[0;34m(\u001b[0m\u001b[0mall_args\u001b[0m\u001b[0;34m)\u001b[0m\u001b[0;34m\u001b[0m\u001b[0;34m\u001b[0m\u001b[0m\n\u001b[1;32m     62\u001b[0m             \u001b[0;32mif\u001b[0m \u001b[0mextra_args\u001b[0m \u001b[0;34m<=\u001b[0m \u001b[0;36m0\u001b[0m\u001b[0;34m:\u001b[0m\u001b[0;34m\u001b[0m\u001b[0;34m\u001b[0m\u001b[0m\n\u001b[0;32m---> 63\u001b[0;31m                 \u001b[0;32mreturn\u001b[0m \u001b[0mf\u001b[0m\u001b[0;34m(\u001b[0m\u001b[0;34m*\u001b[0m\u001b[0margs\u001b[0m\u001b[0;34m,\u001b[0m \u001b[0;34m**\u001b[0m\u001b[0mkwargs\u001b[0m\u001b[0;34m)\u001b[0m\u001b[0;34m\u001b[0m\u001b[0;34m\u001b[0m\u001b[0m\n\u001b[0m\u001b[1;32m     64\u001b[0m \u001b[0;34m\u001b[0m\u001b[0m\n\u001b[1;32m     65\u001b[0m             \u001b[0;31m# extra_args > 0\u001b[0m\u001b[0;34m\u001b[0m\u001b[0;34m\u001b[0m\u001b[0;34m\u001b[0m\u001b[0m\n",
      "\u001b[0;32m~/Desktop/sentiment-analysis/env/lib/python3.8/site-packages/sklearn/model_selection/_search.py\u001b[0m in \u001b[0;36mfit\u001b[0;34m(self, X, y, groups, **fit_params)\u001b[0m\n\u001b[1;32m    757\u001b[0m             \u001b[0mrefit_metric\u001b[0m \u001b[0;34m=\u001b[0m \u001b[0mself\u001b[0m\u001b[0;34m.\u001b[0m\u001b[0mrefit\u001b[0m\u001b[0;34m\u001b[0m\u001b[0;34m\u001b[0m\u001b[0m\n\u001b[1;32m    758\u001b[0m \u001b[0;34m\u001b[0m\u001b[0m\n\u001b[0;32m--> 759\u001b[0;31m         \u001b[0mX\u001b[0m\u001b[0;34m,\u001b[0m \u001b[0my\u001b[0m\u001b[0;34m,\u001b[0m \u001b[0mgroups\u001b[0m \u001b[0;34m=\u001b[0m \u001b[0mindexable\u001b[0m\u001b[0;34m(\u001b[0m\u001b[0mX\u001b[0m\u001b[0;34m,\u001b[0m \u001b[0my\u001b[0m\u001b[0;34m,\u001b[0m \u001b[0mgroups\u001b[0m\u001b[0;34m)\u001b[0m\u001b[0;34m\u001b[0m\u001b[0;34m\u001b[0m\u001b[0m\n\u001b[0m\u001b[1;32m    760\u001b[0m         \u001b[0mfit_params\u001b[0m \u001b[0;34m=\u001b[0m \u001b[0m_check_fit_params\u001b[0m\u001b[0;34m(\u001b[0m\u001b[0mX\u001b[0m\u001b[0;34m,\u001b[0m \u001b[0mfit_params\u001b[0m\u001b[0;34m)\u001b[0m\u001b[0;34m\u001b[0m\u001b[0;34m\u001b[0m\u001b[0m\n\u001b[1;32m    761\u001b[0m \u001b[0;34m\u001b[0m\u001b[0m\n",
      "\u001b[0;32m~/Desktop/sentiment-analysis/env/lib/python3.8/site-packages/sklearn/utils/validation.py\u001b[0m in \u001b[0;36mindexable\u001b[0;34m(*iterables)\u001b[0m\n\u001b[1;32m    297\u001b[0m     \"\"\"\n\u001b[1;32m    298\u001b[0m     \u001b[0mresult\u001b[0m \u001b[0;34m=\u001b[0m \u001b[0;34m[\u001b[0m\u001b[0m_make_indexable\u001b[0m\u001b[0;34m(\u001b[0m\u001b[0mX\u001b[0m\u001b[0;34m)\u001b[0m \u001b[0;32mfor\u001b[0m \u001b[0mX\u001b[0m \u001b[0;32min\u001b[0m \u001b[0miterables\u001b[0m\u001b[0;34m]\u001b[0m\u001b[0;34m\u001b[0m\u001b[0;34m\u001b[0m\u001b[0m\n\u001b[0;32m--> 299\u001b[0;31m     \u001b[0mcheck_consistent_length\u001b[0m\u001b[0;34m(\u001b[0m\u001b[0;34m*\u001b[0m\u001b[0mresult\u001b[0m\u001b[0;34m)\u001b[0m\u001b[0;34m\u001b[0m\u001b[0;34m\u001b[0m\u001b[0m\n\u001b[0m\u001b[1;32m    300\u001b[0m     \u001b[0;32mreturn\u001b[0m \u001b[0mresult\u001b[0m\u001b[0;34m\u001b[0m\u001b[0;34m\u001b[0m\u001b[0m\n\u001b[1;32m    301\u001b[0m \u001b[0;34m\u001b[0m\u001b[0m\n",
      "\u001b[0;32m~/Desktop/sentiment-analysis/env/lib/python3.8/site-packages/sklearn/utils/validation.py\u001b[0m in \u001b[0;36mcheck_consistent_length\u001b[0;34m(*arrays)\u001b[0m\n\u001b[1;32m    260\u001b[0m     \u001b[0muniques\u001b[0m \u001b[0;34m=\u001b[0m \u001b[0mnp\u001b[0m\u001b[0;34m.\u001b[0m\u001b[0munique\u001b[0m\u001b[0;34m(\u001b[0m\u001b[0mlengths\u001b[0m\u001b[0;34m)\u001b[0m\u001b[0;34m\u001b[0m\u001b[0;34m\u001b[0m\u001b[0m\n\u001b[1;32m    261\u001b[0m     \u001b[0;32mif\u001b[0m \u001b[0mlen\u001b[0m\u001b[0;34m(\u001b[0m\u001b[0muniques\u001b[0m\u001b[0;34m)\u001b[0m \u001b[0;34m>\u001b[0m \u001b[0;36m1\u001b[0m\u001b[0;34m:\u001b[0m\u001b[0;34m\u001b[0m\u001b[0;34m\u001b[0m\u001b[0m\n\u001b[0;32m--> 262\u001b[0;31m         raise ValueError(\"Found input variables with inconsistent numbers of\"\n\u001b[0m\u001b[1;32m    263\u001b[0m                          \" samples: %r\" % [int(l) for l in lengths])\n\u001b[1;32m    264\u001b[0m \u001b[0;34m\u001b[0m\u001b[0m\n",
      "\u001b[0;31mValueError\u001b[0m: Found input variables with inconsistent numbers of samples: [9255, 6931]"
     ]
    }
   ],
   "source": [
    "mll_scorer = metrics.make_scorer(multiclass_logloss, greater_is_better=False, needs_proba=True)\n",
    "\n",
    "# Create the pipeline \n",
    "clf = pipeline.Pipeline([('lr', lr)])\n",
    "param_grid = {\"lr__C\": [0.001, 0.01, 0.1, 1, 10, 100, 1000]}\n",
    "model = GridSearchCV(estimator=clf, param_grid=param_grid, n_jobs=-1, refit=True, cv=2)\n",
    "\n",
    "model.fit(xtrain_ctv, ytrain)\n",
    "print(\"Best score: %0.3f\" % model.best_score_)\n",
    "print(\"Best parameters set:\")\n",
    "best_parameters = model.best_estimator_.get_params()\n",
    "for param_name in sorted(param_grid.keys()):\n",
    "    print(\"\\t%s: %r\" % (param_name, best_parameters[param_name]))"
   ]
  },
  {
   "cell_type": "code",
   "execution_count": 300,
   "metadata": {},
   "outputs": [
    {
     "data": {
      "text/plain": [
       "Text(0.5, 0, 'False Positive Rate')"
      ]
     },
     "execution_count": 300,
     "metadata": {},
     "output_type": "execute_result"
    },
    {
     "data": {
      "image/png": "[encoded data removed]",
      "text/plain": [
       "<Figure size 432x288 with 1 Axes>"
      ]
     },
     "metadata": {},
     "output_type": "display_data"
    }
   ],
   "source": [
    "# method I: plt\n",
    "import matplotlib.pyplot as plt\n",
    "import sklearn.metrics as metrics\n",
    "\n",
    "preds_tf = predictions[:,1]\n",
    "fpr_tf, tpr_tf, threshold_tf = metrics.roc_curve(yvalid, preds_tf)\n",
    "roc_auc_tf = metrics.auc(fpr, tpr)\n",
    "\n",
    "plt.title('TF-IDF Vectorizer > Logistic Regression')\n",
    "plt.plot(fpr_tf, tpr_tf, 'b', label = 'AUC = %0.2f' % roc_auc)\n",
    "plt.legend(loc = 'lower right')\n",
    "plt.plot([0, 1], [0, 1],'r--')\n",
    "\n",
    "plt.ylabel('True Positive Rate')\n",
    "plt.xlabel('False Positive Rate')"
   ]
  },
  {
   "cell_type": "code",
   "execution_count": null,
   "metadata": {},
   "outputs": [],
   "source": []
  },
  {
   "cell_type": "code",
   "execution_count": 12,
   "metadata": {
    "scrolled": true
   },
   "outputs": [
    {
     "name": "stdout",
     "output_type": "stream",
     "text": [
      "Conut Vectorizer score with ngram-range (1,3)\n",
      "logloss: 0.220 \n",
      "f1 score: 0.865\n"
     ]
    }
   ],
   "source": [
    "'''\n",
    "Instead of using tf-idf we can also use word counts as features\n",
    "'''\n",
    "ctv = CountVectorizer(analyzer='word',token_pattern=r'\\w{1,}',\n",
    "            ngram_range=(1, 1))\n",
    "\n",
    "# Fitting Count Vectorizer to both training and test sets (semi-supervised learning)\n",
    "ctv.fit(list(xtrain) + list(xvalid))\n",
    "\n",
    "xtrain_ctv =  ctv.transform(xtrain) \n",
    "xvalid_ctv = ctv.transform(xvalid)\n",
    "\n",
    "# Fitting a simple Logistic Regression on Counts\n",
    "clf = LogisticRegression(C=1.0)\n",
    "clf.fit(xtrain_ctv, ytrain)\n",
    "\n",
    "predictions = clf.predict_proba(xvalid_ctv)\n",
    "fscore_pred = clf.predict(xvalid_ctv)\n",
    "\n",
    "print (\"Count Vectorizer score with ngram-range (1,3)\")\n",
    "print (\"logloss: %0.3f \" % multiclass_logloss(yvalid, predictions))\n",
    "print (\"f1 score: %0.3f\" % f1_score(yvalid, fscore_pred))"
   ]
  },
  {
   "cell_type": "code",
   "execution_count": 305,
   "metadata": {},
   "outputs": [
    {
     "name": "stdout",
     "output_type": "stream",
     "text": [
      "Conut Vectorizer score with ngram-range (1,3)\n",
      "logloss: 0.243 \n",
      "f1 score: 0.899\n"
     ]
    }
   ],
   "source": [
    "from sklearn.ensemble import RandomForestClassifier\n",
    "\n",
    "clf = RandomForestClassifier(n_jobs=-1, random_state=42)\n",
    "clf.fit(xtrain_ctv, ytrain)\n",
    "\n",
    "predictions = clf.predict_proba(xvalid_ctv)\n",
    "fscore_pred = clf.predict(xvalid_ctv)\n",
    "\n",
    "print (\"Conut Vectorizer score with ngram-range (1,3)\")\n",
    "print (\"logloss: %0.3f \" % multiclass_logloss(yvalid, predictions))\n",
    "print (\"f1 score: %0.3f\" % f1_score(yvalid, fscore_pred))"
   ]
  },
  {
   "cell_type": "code",
   "execution_count": 307,
   "metadata": {
    "scrolled": true
   },
   "outputs": [
    {
     "name": "stdout",
     "output_type": "stream",
     "text": [
      "Conut Vectorizer score with ngram-range (1,3)\n",
      "logloss: 0.254 \n",
      "f1 score: 0.889\n"
     ]
    }
   ],
   "source": [
    "clf = RandomForestClassifier(n_jobs=-1, random_state=42)\n",
    "clf.fit(xtrain_tfv, ytrain)\n",
    "\n",
    "predictions = clf.predict_proba(xvalid_tfv)\n",
    "fscore_pred = clf.predict(xvalid_tfv)\n",
    "\n",
    "print (\"Conut Vectorizer score with ngram-range (1,3)\")\n",
    "print (\"logloss: %0.3f \" % multiclass_logloss(yvalid, predictions))\n",
    "print (\"f1 score: %0.3f\" % f1_score(yvalid, fscore_pred))"
   ]
  },
  {
   "cell_type": "code",
   "execution_count": null,
   "metadata": {},
   "outputs": [],
   "source": [
    "[balanced 200d]\n",
    "loss: 4.4548 - f1: 0.5045\n",
    "        \n",
    "Epoch 26/100\n",
    "14/14 [==============================] - 9s 623ms/step - loss: 0.2764 - f1: 0.8763 - val_loss: 0.2630 - val_f1: 0.8855\n",
    "                \n",
    "[unbalanced 50d]\n",
    "\n",
    "Epoch 46/100\n",
    "18/18 [==============================] - 10s 574ms/step - loss: 0.3261 - f1: 0.8536 - val_loss: 0.2602 - val_f1: 0.8846\n",
    "110/110 [==============================] - 3s 21ms/step - loss: 1.6879 - f1: 0.6429GRYd."
   ]
  },
  {
   "cell_type": "code",
   "execution_count": 234,
   "metadata": {},
   "outputs": [
    {
     "name": "stderr",
     "output_type": "stream",
     "text": [
      "100%|██████████| 7702/7702 [00:00<00:00, 60990.03it/s]\n"
     ]
    },
    {
     "data": {
      "text/plain": [
       "[(('hurricane', 'sandy', 'sandy'), 1459),\n",
       " (('new', 'york', 'york'), 510),\n",
       " (('sandy', 'url', 'url'), 362),\n",
       " (('usermention', 'usermention', 'usermention'), 302),\n",
       " (('tomb', 'unknown', 'unknown'), 282),\n",
       " (('unknown', 'soldier', 'soldier'), 263),\n",
       " (('new', 'jersey', 'jersey'), 222),\n",
       " (('via', 'usermention', 'usermention'), 214),\n",
       " (('url', 'via', 'via'), 194),\n",
       " (('york', 'magazine', 'magazine'), 187),\n",
       " (('sandy', 'hurricane', 'hurricane'), 164),\n",
       " (('usermention', 'cover', 'cover'), 159),\n",
       " (('sandy', 'usermention', 'usermention'), 138),\n",
       " (('usermention', 'sandy', 'sandy'), 138),\n",
       " (('shark', 'swim', 'swim'), 136),\n",
       " (('guard', 'tomb', 'tomb'), 129),\n",
       " (('sandy', 'nyc', 'nyc'), 123),\n",
       " (('nyc', 'sandy', 'sandy'), 116),\n",
       " (('statue', 'liberty', 'liberty'), 116),\n",
       " (('cover', 'sandy', 'sandy'), 108)]"
      ]
     },
     "execution_count": 234,
     "metadata": {},
     "output_type": "execute_result"
    }
   ],
   "source": [
    "def get_bigrams(tweet_words):\n",
    "    bigrams = []\n",
    "    num_words = len(tweet_words)\n",
    "    for i in range(num_words - 1):\n",
    "        bigrams.append((tweet_words[i], tweet_words[i + 1]))\n",
    "    return bigrams\n",
    "\n",
    "def get_trigram(tweet_words):\n",
    "    bigrams = []\n",
    "    num_words = len(tweet_words)\n",
    "    for i in range(num_words - 2):\n",
    "        bigrams.append((tweet_words[i], tweet_words[i + 1], tweet_words[i+1]))\n",
    "    return bigrams\n",
    "\n",
    "bigram_cnt = Counter()\n",
    "trigram_cnt = Counter()\n",
    "\n",
    "for x in tqdm(normalized_en_df.preprocessed_text.values):\n",
    "    for bigram in get_bigrams(x.split()):\n",
    "        bigram_cnt[bigram] += 1\n",
    "    \n",
    "    for trigram in get_trigram(x.split()):\n",
    "        trigram_cnt[trigram] +=1\n",
    "\n",
    "trigram_cnt.most_common(20)"
   ]
  },
  {
   "cell_type": "code",
   "execution_count": 235,
   "metadata": {},
   "outputs": [
    {
     "data": {
      "text/plain": [
       "Text(0, 0.5, 'bigrams')"
      ]
     },
     "execution_count": 235,
     "metadata": {},
     "output_type": "execute_result"
    },
    {
     "data": {
      "image/png": "[encoded data removed]",
      "text/plain": [
       "<Figure size 432x288 with 1 Axes>"
      ]
     },
     "metadata": {},
     "output_type": "display_data"
    }
   ],
   "source": [
    "\n",
    "labels, values = zip(*bigram_cnt.most_common(10))\n",
    "\n",
    "normalized_labels = [' '.join(x) for x in labels]\n",
    "\n",
    "fig, ax = plt.subplots()    \n",
    "width = 0.75 # the width of the bars \n",
    "ind = np.arange(len(values))  # the x locations for the groups\n",
    "\n",
    "ax.barh(ind, values, width, color=\"blue\")\n",
    "ax.set_yticks(ind+width/2)\n",
    "ax.set_yticklabels(normalized_labels, minor=False)\n",
    "\n",
    "for i, v in enumerate(values):\n",
    "    ax.text(v + 3, i + .25, str(v), color='black')\n",
    "\n",
    "plt.title('title')\n",
    "plt.xlabel('count')\n",
    "plt.ylabel('bigrams')     "
   ]
  },
  {
   "cell_type": "code",
   "execution_count": 236,
   "metadata": {},
   "outputs": [
    {
     "data": {
      "text/plain": [
       "Text(0, 0.5, 'trigrams')"
      ]
     },
     "execution_count": 236,
     "metadata": {},
     "output_type": "execute_result"
    },
    {
     "data": {
      "image/png": "[encoded data removed]",
      "text/plain": [
       "<Figure size 432x288 with 1 Axes>"
      ]
     },
     "metadata": {},
     "output_type": "display_data"
    }
   ],
   "source": [
    "labels, values = zip(*trigram_cnt.most_common(10))\n",
    "\n",
    "normalized_labels = [' '.join(x) for x in labels]\n",
    "\n",
    "fig, ax = plt.subplots()    \n",
    "width = 0.75 # the width of the bars \n",
    "ind = np.arange(len(values))  # the x locations for the groups\n",
    "\n",
    "ax.barh(ind, values, width, color=\"blue\")\n",
    "ax.set_yticks(ind+width/2)\n",
    "ax.set_yticklabels(normalized_labels, minor=False)\n",
    "\n",
    "for i, v in enumerate(values):\n",
    "    ax.text(v + 3, i + .25, str(v), color='black')\n",
    "\n",
    "plt.title('title')\n",
    "plt.xlabel('count')\n",
    "plt.ylabel('trigrams')     "
   ]
  },
  {
   "cell_type": "code",
   "execution_count": null,
   "metadata": {},
   "outputs": [],
   "source": []
  },
  {
   "cell_type": "code",
   "execution_count": 262,
   "metadata": {},
   "outputs": [
    {
     "name": "stderr",
     "output_type": "stream",
     "text": [
      "/Users/riccardoandronache/Desktop/sentiment-analysis/env/lib/python3.8/site-packages/xgboost/sklearn.py:892: UserWarning: The use of label encoder in XGBClassifier is deprecated and will be removed in a future release. To remove this warning, do the following: 1) Pass option use_label_encoder=False when constructing XGBClassifier object; and 2) Encode your labels (y) as integers starting with 0, i.e. 0, 1, 2, ..., [num_class - 1].\n",
      "  warnings.warn(label_encoder_deprecation_msg, UserWarning)\n"
     ]
    },
    {
     "name": "stdout",
     "output_type": "stream",
     "text": [
      "[01:46:59] WARNING: /Users/travis/build/dmlc/xgboost/src/learner.cc:1061: Starting in XGBoost 1.3.0, the default evaluation metric used with the objective 'binary:logistic' was changed from 'error' to 'logloss'. Explicitly set eval_metric if you'd like to restore the old behavior.\n",
      "logloss: 0.216 \n"
     ]
    }
   ],
   "source": [
    "# Fitting a simple xgboost on count\n",
    "clf = xgb.XGBClassifier(max_depth=12, n_estimators=500, colsample_bytree=0.8, \n",
    "                        subsample=0.8, nthread=10, learning_rate=0.1)\n",
    "clf.fit(xtrain_ctv.tocsc(), ytrain)\n",
    "predictions = clf.predict_proba(xvalid_ctv.tocsc())\n",
    "\n",
    "print (\"logloss: %0.3f \" % multiclass_logloss(yvalid, predictions))"
   ]
  },
  {
   "cell_type": "code",
   "execution_count": null,
   "metadata": {},
   "outputs": [],
   "source": []
  },
  {
   "cell_type": "code",
   "execution_count": 280,
   "metadata": {
    "scrolled": true
   },
   "outputs": [
    {
     "name": "stderr",
     "output_type": "stream",
     "text": [
      "/Users/riccardoandronache/Desktop/sentiment-analysis/env/lib/python3.8/site-packages/xgboost/sklearn.py:892: UserWarning: The use of label encoder in XGBClassifier is deprecated and will be removed in a future release. To remove this warning, do the following: 1) Pass option use_label_encoder=False when constructing XGBClassifier object; and 2) Encode your labels (y) as integers starting with 0, i.e. 0, 1, 2, ..., [num_class - 1].\n",
      "  warnings.warn(label_encoder_deprecation_msg, UserWarning)\n"
     ]
    },
    {
     "name": "stdout",
     "output_type": "stream",
     "text": [
      "[10:29:18] WARNING: /Users/travis/build/dmlc/xgboost/src/learner.cc:1061: Starting in XGBoost 1.3.0, the default evaluation metric used with the objective 'binary:logistic' was changed from 'error' to 'logloss'. Explicitly set eval_metric if you'd like to restore the old behavior.\n",
      "Best score: 0.854\n",
      "Best parameters set:\n",
      "\txgboost__max_depth: 7\n",
      "\txgboost__n_estimators: 550\n"
     ]
    }
   ],
   "source": [
    "mll_scorer = metrics.make_scorer(multiclass_logloss, greater_is_better=False, needs_proba=True)\n",
    "\n",
    "# We will use logistic regression here..\n",
    "xg_model = xgb.XGBClassifier(subsample=.8, colsample_bytree=0.8)\n",
    "\n",
    "# Create the pipeline \n",
    "clf = pipeline.Pipeline([('xgboost', xg_model)])\n",
    "\n",
    "param_grid = {'xgboost__max_depth': [7, 12, 14, 15], \n",
    "              'xgboost__n_estimators': [550, 650, 700],\n",
    "             }\n",
    "\n",
    "model = GridSearchCV(estimator=clf, param_grid=param_grid, n_jobs=-1, refit=True, cv=2)\n",
    "\n",
    "model.fit(xtrain_ctv, ytrain)  # we can use the full data here but im only using xtrain\n",
    "\n",
    "print(\"Best score: %0.3f\" % model.best_score_)\n",
    "print(\"Best parameters set:\")\n",
    "best_parameters = model.best_estimator_.get_params()\n",
    "for param_name in sorted(param_grid.keys()):\n",
    "    print(\"\\t%s: %r\" % (param_name, best_parameters[param_name]))"
   ]
  },
  {
   "cell_type": "code",
   "execution_count": null,
   "metadata": {},
   "outputs": [],
   "source": [
    "embedding_dict={}\n",
    "with open('./glove.twitter.27B/glove.twitter.27B.100d.txt', 'r') as f:\n",
    "    for line in f:\n",
    "        values=line.split()\n",
    "        word=values[0]\n",
    "        vectors=np.asarray(values[1:],'float32')\n",
    "        embedding_dict[word]=vectors\n",
    "f.close()"
   ]
  },
  {
   "cell_type": "code",
   "execution_count": 82,
   "metadata": {},
   "outputs": [
    {
     "name": "stdout",
     "output_type": "stream",
     "text": [
      "Found 0 word vectors.\n"
     ]
    }
   ],
   "source": [
    "print('Found %s word vectors.' % len(embedding_dict))\n",
    "\n",
    "# this function creates a normalized vector for the whole sentence\n",
    "def sent2vec(s):\n",
    "    words = s.lower()\n",
    "    M = []\n",
    "    for w in words:\n",
    "        try:\n",
    "            M.append(embedding_dict[w])\n",
    "        except:\n",
    "            continue\n",
    "    M = np.array(M)\n",
    "    v = M.sum(axis=0)\n",
    "    if type(v) != np.ndarray:\n",
    "        return np.zeros(300)\n",
    "    return v / np.sqrt((v ** 2).sum())"
   ]
  },
  {
   "cell_type": "code",
   "execution_count": 83,
   "metadata": {},
   "outputs": [
    {
     "ename": "NameError",
     "evalue": "name 'xtrain' is not defined",
     "output_type": "error",
     "traceback": [
      "\u001b[0;31m---------------------------------------------------------------------------\u001b[0m",
      "\u001b[0;31mNameError\u001b[0m                                 Traceback (most recent call last)",
      "\u001b[0;32m<ipython-input-83-31dae1e2e1f0>\u001b[0m in \u001b[0;36m<module>\u001b[0;34m\u001b[0m\n\u001b[0;32m----> 1\u001b[0;31m \u001b[0mxtrain_glove\u001b[0m \u001b[0;34m=\u001b[0m \u001b[0;34m[\u001b[0m\u001b[0msent2vec\u001b[0m\u001b[0;34m(\u001b[0m\u001b[0mx\u001b[0m\u001b[0;34m)\u001b[0m \u001b[0;32mfor\u001b[0m \u001b[0mx\u001b[0m \u001b[0;32min\u001b[0m \u001b[0mxtrain\u001b[0m\u001b[0;34m]\u001b[0m\u001b[0;34m\u001b[0m\u001b[0;34m\u001b[0m\u001b[0m\n\u001b[0m\u001b[1;32m      2\u001b[0m \u001b[0mxvalid_glove\u001b[0m \u001b[0;34m=\u001b[0m \u001b[0;34m[\u001b[0m\u001b[0msent2vec\u001b[0m\u001b[0;34m(\u001b[0m\u001b[0mx\u001b[0m\u001b[0;34m)\u001b[0m \u001b[0;32mfor\u001b[0m \u001b[0mx\u001b[0m \u001b[0;32min\u001b[0m \u001b[0mxvalid\u001b[0m\u001b[0;34m]\u001b[0m\u001b[0;34m\u001b[0m\u001b[0;34m\u001b[0m\u001b[0m\n",
      "\u001b[0;31mNameError\u001b[0m: name 'xtrain' is not defined"
     ]
    }
   ],
   "source": [
    "xtrain_glove = [sent2vec(x) for x in xtrain]\n",
    "xvalid_glove = [sent2vec(x) for x in xvalid]"
   ]
  },
  {
   "cell_type": "code",
   "execution_count": 84,
   "metadata": {},
   "outputs": [
    {
     "ename": "NameError",
     "evalue": "name 'xtrain_glove' is not defined",
     "output_type": "error",
     "traceback": [
      "\u001b[0;31m---------------------------------------------------------------------------\u001b[0m",
      "\u001b[0;31mNameError\u001b[0m                                 Traceback (most recent call last)",
      "\u001b[0;32m<ipython-input-84-159f71aab606>\u001b[0m in \u001b[0;36m<module>\u001b[0;34m\u001b[0m\n\u001b[1;32m      1\u001b[0m \u001b[0;31m# scale the data before any neural net:\u001b[0m\u001b[0;34m\u001b[0m\u001b[0;34m\u001b[0m\u001b[0;34m\u001b[0m\u001b[0m\n\u001b[1;32m      2\u001b[0m \u001b[0mscl\u001b[0m \u001b[0;34m=\u001b[0m \u001b[0mpreprocessing\u001b[0m\u001b[0;34m.\u001b[0m\u001b[0mStandardScaler\u001b[0m\u001b[0;34m(\u001b[0m\u001b[0;34m)\u001b[0m\u001b[0;34m\u001b[0m\u001b[0;34m\u001b[0m\u001b[0m\n\u001b[0;32m----> 3\u001b[0;31m \u001b[0mxtrain_glove_scl\u001b[0m \u001b[0;34m=\u001b[0m \u001b[0mscl\u001b[0m\u001b[0;34m.\u001b[0m\u001b[0mfit_transform\u001b[0m\u001b[0;34m(\u001b[0m\u001b[0mxtrain_glove\u001b[0m\u001b[0;34m)\u001b[0m\u001b[0;34m\u001b[0m\u001b[0;34m\u001b[0m\u001b[0m\n\u001b[0m\u001b[1;32m      4\u001b[0m \u001b[0mxvalid_glove_scl\u001b[0m \u001b[0;34m=\u001b[0m \u001b[0mscl\u001b[0m\u001b[0;34m.\u001b[0m\u001b[0mtransform\u001b[0m\u001b[0;34m(\u001b[0m\u001b[0mxvalid_glove\u001b[0m\u001b[0;34m)\u001b[0m\u001b[0;34m\u001b[0m\u001b[0;34m\u001b[0m\u001b[0m\n",
      "\u001b[0;31mNameError\u001b[0m: name 'xtrain_glove' is not defined"
     ]
    }
   ],
   "source": [
    "# scale the data before any neural net:\n",
    "scl = preprocessing.StandardScaler()\n",
    "xtrain_glove_scl = scl.fit_transform(xtrain_glove)\n",
    "xvalid_glove_scl = scl.transform(xvalid_glove)"
   ]
  },
  {
   "cell_type": "code",
   "execution_count": 85,
   "metadata": {},
   "outputs": [
    {
     "ename": "NameError",
     "evalue": "name 'ytrain' is not defined",
     "output_type": "error",
     "traceback": [
      "\u001b[0;31m---------------------------------------------------------------------------\u001b[0m",
      "\u001b[0;31mNameError\u001b[0m                                 Traceback (most recent call last)",
      "\u001b[0;32m<ipython-input-85-61c51e877c28>\u001b[0m in \u001b[0;36m<module>\u001b[0;34m\u001b[0m\n\u001b[1;32m      7\u001b[0m \u001b[0;34m\u001b[0m\u001b[0m\n\u001b[1;32m      8\u001b[0m \u001b[0;31m# we need to binarize the labels for the neural net\u001b[0m\u001b[0;34m\u001b[0m\u001b[0;34m\u001b[0m\u001b[0;34m\u001b[0m\u001b[0m\n\u001b[0;32m----> 9\u001b[0;31m \u001b[0mytrain_enc\u001b[0m \u001b[0;34m=\u001b[0m \u001b[0mnp_utils\u001b[0m\u001b[0;34m.\u001b[0m\u001b[0mto_categorical\u001b[0m\u001b[0;34m(\u001b[0m\u001b[0mytrain\u001b[0m\u001b[0;34m)\u001b[0m\u001b[0;34m\u001b[0m\u001b[0;34m\u001b[0m\u001b[0m\n\u001b[0m\u001b[1;32m     10\u001b[0m \u001b[0myvalid_enc\u001b[0m \u001b[0;34m=\u001b[0m \u001b[0mnp_utils\u001b[0m\u001b[0;34m.\u001b[0m\u001b[0mto_categorical\u001b[0m\u001b[0;34m(\u001b[0m\u001b[0myvalid\u001b[0m\u001b[0;34m)\u001b[0m\u001b[0;34m\u001b[0m\u001b[0;34m\u001b[0m\u001b[0m\n\u001b[1;32m     11\u001b[0m \u001b[0;34m\u001b[0m\u001b[0m\n",
      "\u001b[0;31mNameError\u001b[0m: name 'ytrain' is not defined"
     ]
    }
   ],
   "source": [
    "from keras.utils import np_utils\n",
    "from keras.models import Sequential\n",
    "from keras.layers.recurrent import LSTM, GRU\n",
    "from keras.layers.core import Dense, Activation, Dropout\n",
    "from keras.layers.embeddings import Embedding\n",
    "from keras.layers.normalization import BatchNormalization\n",
    "\n",
    "# we need to binarize the labels for the neural net\n",
    "ytrain_enc = np_utils.to_categorical(ytrain)\n",
    "yvalid_enc = np_utils.to_categorical(yvalid)\n",
    "\n",
    "# create a simple 3 layer sequential neural net\n",
    "model = Sequential()\n",
    "\n",
    "model.add(Dense(300, input_dim=100, activation='relu'))\n",
    "model.add(Dropout(0.2))\n",
    "model.add(BatchNormalization())\n",
    "\n",
    "model.add(Dense(300, activation='relu'))\n",
    "model.add(Dropout(0.3))\n",
    "model.add(BatchNormalization())\n",
    "\n",
    "model.add(Dense(2))\n",
    "model.add(Activation('softmax'))\n",
    "\n",
    "# compile the model\n",
    "model.compile(loss='categorical_crossentropy', optimizer='adam')\n",
    "\n",
    "model.fit(xtrain_glove_scl, y=ytrain_enc, batch_size=64, \n",
    "          epochs=15, verbose=1, validation_data=(xvalid_glove_scl, yvalid_enc))"
   ]
  },
  {
   "cell_type": "code",
   "execution_count": 310,
   "metadata": {},
   "outputs": [
    {
     "name": "stdout",
     "output_type": "stream",
     "text": [
      "[[0. 1.]\n",
      " [1. 0.]\n",
      " [0. 1.]\n",
      " ...\n",
      " [0. 1.]\n",
      " [0. 1.]\n",
      " [0. 1.]]\n"
     ]
    }
   ],
   "source": [
    "# using keras tokenizer here\n",
    "import pandas as pd\n",
    "import numpy as np\n",
    "import xgboost as xgb\n",
    "from sklearn.svm import SVC\n",
    "from keras.models import Sequential\n",
    "from keras.layers.recurrent import LSTM, GRU\n",
    "from keras.layers.core import Dense, Activation, Dropout\n",
    "from keras.layers.embeddings import Embedding\n",
    "from keras.layers.normalization import BatchNormalization\n",
    "from keras.utils import np_utils\n",
    "from sklearn import preprocessing, decomposition, model_selection, metrics, pipeline\n",
    "from sklearn.model_selection import GridSearchCV\n",
    "from sklearn.feature_extraction.text import TfidfVectorizer, CountVectorizer\n",
    "from sklearn.decomposition import TruncatedSVD\n",
    "from sklearn.linear_model import LogisticRegression\n",
    "from sklearn.model_selection import train_test_split\n",
    "from sklearn.naive_bayes import MultinomialNB\n",
    "from keras.layers import GlobalMaxPooling1D, Conv1D, MaxPooling1D, Flatten, Bidirectional, SpatialDropout1D\n",
    "from keras.preprocessing import sequence, text\n",
    "from keras.callbacks import EarlyStopping\n",
    "from nltk import word_tokenize\n",
    "\n",
    "ytrain_enc = np_utils.to_categorical(ytrain)\n",
    "yvalid_enc = np_utils.to_categorical(yvalid)\n",
    "\n",
    "token = text.Tokenizer(num_words=None)\n",
    "max_len = 70\n",
    "\n",
    "token.fit_on_texts(list(xtrain) + list(xvalid))\n",
    "xtrain_seq = token.texts_to_sequences(xtrain)\n",
    "xvalid_seq = token.texts_to_sequences(xvalid)\n",
    "\n",
    "# zero pad the sequences\n",
    "xtrain_pad = sequence.pad_sequences(xtrain_seq, maxlen=max_len)\n",
    "xvalid_pad = sequence.pad_sequences(xvalid_seq, maxlen=max_len)\n",
    "\n",
    "word_index = token.word_index\n",
    "\n",
    "print(ytrain_enc)"
   ]
  },
  {
   "cell_type": "code",
   "execution_count": 138,
   "metadata": {},
   "outputs": [
    {
     "data": {
      "text/plain": [
       "array([ 0.60358   ,  1.00440001, -0.58183998, -0.46979001,  0.73626   ,\n",
       "       -0.036821  ,  0.44097   ,  0.3712    ,  0.32892999, -0.8107    ,\n",
       "        0.084455  ,  0.092451  , -2.77830005,  0.42925   ,  0.97448999,\n",
       "        0.43744001,  0.37305999, -0.19673   ,  0.38328999,  0.26379001,\n",
       "       -0.90461999, -0.48293   , -0.13865   , -0.24233   ,  1.36730003,\n",
       "        0.73426002,  0.12501   ,  0.59283   ,  0.55492002,  0.23641001,\n",
       "       -0.38710001,  0.030004  ,  0.10456   ,  0.34601   , -1.02020001,\n",
       "        0.15279   ,  0.17186999,  0.064514  , -0.18266   , -0.29025   ,\n",
       "       -0.12325   , -0.39218   ,  0.56980997, -0.55712998, -0.55246001,\n",
       "        0.69173998,  0.25887001,  0.33588001, -0.82182997,  0.70016998,\n",
       "        0.74658   , -0.49056   ,  0.60483003, -0.12661   ,  0.19766   ,\n",
       "        0.080627  , -0.47217   , -0.081841  , -0.78228003, -0.42544001,\n",
       "       -0.020018  ,  0.88999999, -0.96820003,  0.30618   ,  0.16656999,\n",
       "       -0.34279999,  0.19219001,  0.058204  ,  0.50467998, -1.12030005,\n",
       "        0.42438   ,  0.47668001,  0.052664  , -0.2404    , -0.31015   ,\n",
       "       -0.10689   , -0.0034072 ,  0.3504    ,  0.12357   , -0.32247999,\n",
       "        1.50539994, -0.47543001,  0.588     , -0.16624001, -0.49704999,\n",
       "       -0.79593003,  0.5905    ,  0.63710999, -0.32343   , -0.47202   ,\n",
       "       -0.036966  , -0.22905999, -0.44093001, -0.44914001, -0.39196   ,\n",
       "       -0.14524999, -0.94094998,  0.68715   ,  0.12296   , -0.1701    ])"
      ]
     },
     "execution_count": 138,
     "metadata": {},
     "output_type": "execute_result"
    }
   ],
   "source": [
    "# create an embedding matrix for the words we have in the dataset\n",
    "embedding_matrix = np.zeros((len(word_index) + 1, 100))\n",
    "for word, i in word_index.items():\n",
    "    embedding_vector = embedding_dict.get(word)\n",
    "    if embedding_vector is not None:\n",
    "        embedding_matrix[i] = embedding_vector\n",
    "        \n",
    "embedding_matrix[4]"
   ]
  },
  {
   "cell_type": "code",
   "execution_count": 141,
   "metadata": {},
   "outputs": [
    {
     "name": "stdout",
     "output_type": "stream",
     "text": [
      "Epoch 1/100\n",
      "14/14 [==============================] - 11s 544ms/step - loss: 0.7056 - val_loss: 0.6555\n",
      "Epoch 2/100\n",
      "14/14 [==============================] - 7s 525ms/step - loss: 0.6731 - val_loss: 0.5770\n",
      "Epoch 3/100\n",
      "14/14 [==============================] - 8s 576ms/step - loss: 0.6137 - val_loss: 0.5046\n",
      "Epoch 4/100\n",
      "14/14 [==============================] - 8s 567ms/step - loss: 0.5612 - val_loss: 0.4810\n",
      "Epoch 5/100\n",
      "14/14 [==============================] - 7s 523ms/step - loss: 0.5472 - val_loss: 0.4599\n",
      "Epoch 6/100\n",
      "14/14 [==============================] - 7s 514ms/step - loss: 0.5287 - val_loss: 0.4410\n",
      "Epoch 7/100\n",
      "14/14 [==============================] - 7s 518ms/step - loss: 0.5125 - val_loss: 0.4276\n",
      "Epoch 8/100\n",
      "14/14 [==============================] - 7s 527ms/step - loss: 0.4971 - val_loss: 0.3942\n",
      "Epoch 9/100\n",
      "14/14 [==============================] - 7s 516ms/step - loss: 0.4750 - val_loss: 0.3867\n",
      "Epoch 10/100\n",
      "14/14 [==============================] - 7s 520ms/step - loss: 0.4510 - val_loss: 0.3782\n",
      "Epoch 11/100\n",
      "14/14 [==============================] - 7s 517ms/step - loss: 0.4516 - val_loss: 0.3547\n",
      "Epoch 12/100\n",
      "14/14 [==============================] - 8s 564ms/step - loss: 0.4276 - val_loss: 0.3486\n",
      "Epoch 13/100\n",
      "14/14 [==============================] - 8s 542ms/step - loss: 0.4081 - val_loss: 0.3386\n",
      "Epoch 14/100\n",
      "14/14 [==============================] - 8s 541ms/step - loss: 0.3996 - val_loss: 0.3341\n",
      "Epoch 15/100\n",
      "14/14 [==============================] - 8s 538ms/step - loss: 0.3915 - val_loss: 0.3291\n",
      "Epoch 16/100\n",
      "14/14 [==============================] - 8s 577ms/step - loss: 0.3821 - val_loss: 0.3128\n",
      "Epoch 17/100\n",
      "14/14 [==============================] - 8s 595ms/step - loss: 0.3741 - val_loss: 0.3206\n",
      "Epoch 18/100\n",
      "14/14 [==============================] - 8s 590ms/step - loss: 0.3642 - val_loss: 0.3097\n",
      "Epoch 19/100\n",
      "14/14 [==============================] - 9s 614ms/step - loss: 0.3662 - val_loss: 0.3136\n",
      "Epoch 20/100\n",
      "14/14 [==============================] - 9s 620ms/step - loss: 0.3559 - val_loss: 0.3033\n",
      "Epoch 21/100\n",
      "14/14 [==============================] - 9s 611ms/step - loss: 0.3493 - val_loss: 0.2967\n",
      "Epoch 22/100\n",
      "14/14 [==============================] - 8s 593ms/step - loss: 0.3584 - val_loss: 0.2960\n",
      "Epoch 23/100\n",
      "14/14 [==============================] - 8s 588ms/step - loss: 0.3504 - val_loss: 0.2923\n",
      "Epoch 24/100\n",
      "14/14 [==============================] - 8s 598ms/step - loss: 0.3425 - val_loss: 0.2965\n",
      "Epoch 25/100\n",
      "14/14 [==============================] - 8s 567ms/step - loss: 0.3496 - val_loss: 0.3018\n",
      "Epoch 26/100\n",
      "14/14 [==============================] - 8s 574ms/step - loss: 0.3483 - val_loss: 0.2840\n",
      "Epoch 27/100\n",
      "14/14 [==============================] - 8s 576ms/step - loss: 0.3250 - val_loss: 0.2889\n",
      "Epoch 28/100\n",
      "14/14 [==============================] - 8s 587ms/step - loss: 0.3228 - val_loss: 0.2848\n",
      "Epoch 29/100\n",
      "14/14 [==============================] - 8s 604ms/step - loss: 0.3208 - val_loss: 0.2840\n",
      "Epoch 30/100\n",
      "14/14 [==============================] - 9s 617ms/step - loss: 0.3178 - val_loss: 0.2775\n",
      "Epoch 31/100\n",
      "14/14 [==============================] - 8s 606ms/step - loss: 0.3276 - val_loss: 0.2765\n",
      "Epoch 32/100\n",
      "14/14 [==============================] - 9s 622ms/step - loss: 0.3097 - val_loss: 0.2763\n",
      "Epoch 33/100\n",
      "14/14 [==============================] - 9s 617ms/step - loss: 0.3079 - val_loss: 0.2743\n",
      "Epoch 34/100\n",
      "14/14 [==============================] - 9s 610ms/step - loss: 0.3042 - val_loss: 0.2689\n",
      "Epoch 35/100\n",
      "14/14 [==============================] - 8s 605ms/step - loss: 0.3098 - val_loss: 0.2685\n",
      "Epoch 36/100\n",
      "14/14 [==============================] - 8s 598ms/step - loss: 0.3007 - val_loss: 0.2674\n",
      "Epoch 37/100\n",
      "14/14 [==============================] - 8s 589ms/step - loss: 0.3013 - val_loss: 0.2696\n",
      "Epoch 38/100\n",
      "14/14 [==============================] - 8s 601ms/step - loss: 0.2914 - val_loss: 0.2695\n",
      "Epoch 39/100\n",
      "14/14 [==============================] - 9s 613ms/step - loss: 0.2818 - val_loss: 0.2684\n"
     ]
    },
    {
     "data": {
      "text/plain": [
       "<tensorflow.python.keras.callbacks.History at 0x7fe8830844f0>"
      ]
     },
     "execution_count": 141,
     "metadata": {},
     "output_type": "execute_result"
    }
   ],
   "source": [
    "# GRU with glove embeddings and two dense layers\n",
    "model = Sequential()\n",
    "model.add(Embedding(len(word_index) + 1,\n",
    "                     100,\n",
    "                     weights=[embedding_matrix],\n",
    "                     input_length=max_len,\n",
    "                     trainable=False))\n",
    "model.add(SpatialDropout1D(0.3))\n",
    "model.add(GRU(100, dropout=0.3, recurrent_dropout=0.3, return_sequences=True))\n",
    "model.add(GRU(100, dropout=0.3, recurrent_dropout=0.3))\n",
    "\n",
    "model.add(Dense(1024, activation='relu'))\n",
    "model.add(Dropout(0.8))\n",
    "\n",
    "model.add(Dense(1024, activation='relu'))\n",
    "model.add(Dropout(0.8))\n",
    "\n",
    "model.add(Dense(2))\n",
    "model.add(Activation('softmax'))\n",
    "model.compile(loss='categorical_crossentropy', optimizer='adam')\n",
    "\n",
    "# Fit the model with early stopping callback\n",
    "earlystop = EarlyStopping(monitor='val_loss', min_delta=0, patience=3, verbose=0, mode='auto')\n",
    "model.fit(xtrain_pad, y=ytrain_enc, batch_size=512, epochs=100, \n",
    "          verbose=1, validation_data=(xvalid_pad, yvalid_enc), callbacks=[earlystop])"
   ]
  },
  {
   "cell_type": "code",
   "execution_count": 12,
   "metadata": {},
   "outputs": [
    {
     "data": {
      "image/png": "[encoded data removed]",
      "text/plain": [
       "<Figure size 432x288 with 1 Axes>"
      ]
     },
     "metadata": {},
     "output_type": "display_data"
    }
   ],
   "source": [
    "# After we modelled the data and come up with a classifier, let's look into\n",
    "# the test data\n",
    "\n",
    "ax = sns.countplot(x=\"label\", data=test_df, palette=['#fc6a6a','#79ed79'])\n",
    "for p in ax.patches:\n",
    "    height = p.get_height()\n",
    "    ax.text(p.get_x() + p.get_width()/2., height + 3, \n",
    "            '{:1.2f}'.format(height/len(test_df)), ha=\"center\")"
   ]
  },
  {
   "cell_type": "code",
   "execution_count": 9,
   "metadata": {},
   "outputs": [
    {
     "data": {
      "text/plain": [
       "fake    2546\n",
       "real    1209\n",
       "Name: label, dtype: int64"
      ]
     },
     "execution_count": 9,
     "metadata": {},
     "output_type": "execute_result"
    }
   ],
   "source": [
    "test_df.label.value_counts()"
   ]
  },
  {
   "cell_type": "code",
   "execution_count": 20,
   "metadata": {},
   "outputs": [
    {
     "name": "stderr",
     "output_type": "stream",
     "text": [
      "\n",
      "  0%|          | 0/3755 [00:52<?, ?it/s]\u001b[A\n",
      "\n",
      "  0%|          | 1/3755 [00:00<22:20,  2.80it/s]\u001b[A\n",
      "  0%|          | 16/3755 [00:00<01:24, 44.14it/s]\u001b[A\n",
      "  1%|          | 25/3755 [00:00<01:05, 57.10it/s]\u001b[A\n",
      "  1%|▏         | 54/3755 [00:00<00:29, 123.83it/s]\u001b[A\n",
      "  2%|▏         | 77/3755 [00:00<00:24, 151.98it/s]\u001b[A\n",
      "  3%|▎         | 96/3755 [00:00<00:22, 161.61it/s]\u001b[A\n",
      "  3%|▎         | 121/3755 [00:00<00:19, 187.34it/s]\u001b[A\n",
      "  4%|▍         | 151/3755 [00:01<00:16, 218.53it/s]\u001b[A\n",
      "  5%|▍         | 175/3755 [00:01<00:16, 219.24it/s]\u001b[A\n",
      "  5%|▌         | 198/3755 [00:01<00:17, 205.92it/s]\u001b[A\n",
      "  6%|▌         | 222/3755 [00:01<00:16, 213.58it/s]\u001b[A\n",
      "  6%|▋         | 244/3755 [00:01<00:18, 193.24it/s]\u001b[A\n",
      "  7%|▋         | 268/3755 [00:01<00:18, 193.16it/s]\u001b[A\n",
      "  8%|▊         | 288/3755 [00:01<00:22, 157.15it/s]\u001b[A\n",
      "  8%|▊         | 315/3755 [00:01<00:18, 183.14it/s]\u001b[A\n",
      "  9%|▉         | 337/3755 [00:02<00:17, 190.23it/s]\u001b[A\n",
      " 10%|▉         | 363/3755 [00:02<00:16, 206.94it/s]\u001b[A\n",
      " 10%|█         | 389/3755 [00:02<00:15, 220.62it/s]\u001b[A\n",
      " 11%|█         | 415/3755 [00:02<00:14, 230.20it/s]\u001b[A\n",
      " 12%|█▏        | 440/3755 [00:02<00:14, 234.10it/s]\u001b[A\n",
      " 12%|█▏        | 468/3755 [00:02<00:13, 244.79it/s]\u001b[A\n",
      " 13%|█▎        | 493/3755 [00:02<00:14, 231.25it/s]\u001b[A\n",
      " 14%|█▍        | 529/3755 [00:02<00:12, 265.49it/s]\u001b[A\n",
      " 15%|█▍        | 557/3755 [00:02<00:12, 258.94it/s]\u001b[A\n",
      " 16%|█▌        | 585/3755 [00:03<00:11, 264.62it/s]\u001b[A\n",
      " 16%|█▋        | 612/3755 [00:03<00:13, 241.46it/s]\u001b[A\n",
      " 17%|█▋        | 637/3755 [00:03<00:13, 231.92it/s]\u001b[A\n",
      " 18%|█▊        | 661/3755 [00:03<00:13, 226.32it/s]\u001b[A\n",
      " 18%|█▊        | 684/3755 [00:03<00:14, 216.18it/s]\u001b[A\n",
      " 19%|█▉        | 706/3755 [00:03<00:14, 212.59it/s]\u001b[A\n",
      " 19%|█▉        | 728/3755 [00:03<00:15, 199.37it/s]\u001b[A\n",
      " 20%|█▉        | 749/3755 [00:03<00:15, 189.70it/s]\u001b[A\n",
      " 20%|██        | 769/3755 [00:03<00:16, 182.64it/s]\u001b[A\n",
      " 21%|██        | 790/3755 [00:04<00:15, 189.17it/s]\u001b[A\n",
      " 22%|██▏       | 810/3755 [00:04<00:15, 190.53it/s]\u001b[A\n",
      " 22%|██▏       | 830/3755 [00:04<00:15, 191.89it/s]\u001b[A\n",
      " 23%|██▎       | 852/3755 [00:04<00:14, 199.11it/s]\u001b[A\n",
      " 24%|██▍       | 892/3755 [00:04<00:11, 256.34it/s]\u001b[A\n",
      " 24%|██▍       | 918/3755 [00:04<00:11, 257.32it/s]\u001b[A\n",
      " 25%|██▌       | 944/3755 [00:04<00:11, 243.60it/s]\u001b[A\n",
      " 26%|██▌       | 969/3755 [00:04<00:12, 232.00it/s]\u001b[A\n",
      " 27%|██▋       | 1001/3755 [00:04<00:10, 254.39it/s]\u001b[A\n",
      " 27%|██▋       | 1029/3755 [00:05<00:10, 261.49it/s]\u001b[A\n",
      " 28%|██▊       | 1056/3755 [00:05<00:10, 249.21it/s]\u001b[A\n",
      " 29%|██▉       | 1082/3755 [00:05<00:11, 233.41it/s]\u001b[A\n",
      " 29%|██▉       | 1106/3755 [00:05<00:12, 218.82it/s]\u001b[A"
     ]
    },
    {
     "name": "stdout",
     "output_type": "stream",
     "text": [
      "This row throws an error\n",
      " \n",
      "This row throws an error\n",
      " \n"
     ]
    },
    {
     "name": "stderr",
     "output_type": "stream",
     "text": [
      "\n",
      " 30%|███       | 1129/3755 [00:05<00:12, 208.99it/s]\u001b[A\n",
      " 31%|███       | 1151/3755 [00:05<00:13, 196.22it/s]\u001b[A\n",
      " 31%|███▏      | 1174/3755 [00:05<00:12, 202.71it/s]\u001b[A\n",
      " 32%|███▏      | 1197/3755 [00:05<00:12, 207.50it/s]\u001b[A\n",
      " 32%|███▏      | 1220/3755 [00:05<00:11, 213.03it/s]\u001b[A\n",
      " 33%|███▎      | 1245/3755 [00:06<00:11, 222.67it/s]\u001b[A\n",
      " 34%|███▍      | 1271/3755 [00:06<00:10, 231.85it/s]\u001b[A\n",
      " 34%|███▍      | 1295/3755 [00:06<00:10, 234.00it/s]\u001b[A\n",
      " 35%|███▌      | 1319/3755 [00:06<00:10, 233.16it/s]\u001b[A\n",
      " 36%|███▌      | 1343/3755 [00:06<00:10, 232.60it/s]\u001b[A\n",
      " 36%|███▋      | 1367/3755 [00:06<00:10, 229.45it/s]\u001b[A\n",
      " 37%|███▋      | 1391/3755 [00:06<00:10, 231.44it/s]\u001b[A\n",
      " 38%|███▊      | 1416/3755 [00:06<00:10, 233.50it/s]\u001b[A\n",
      " 38%|███▊      | 1440/3755 [00:06<00:10, 227.27it/s]\u001b[A\n",
      " 39%|███▉      | 1464/3755 [00:07<00:09, 229.42it/s]\u001b[A\n",
      " 40%|███▉      | 1488/3755 [00:07<00:09, 231.98it/s]\u001b[A\n",
      " 40%|████      | 1513/3755 [00:07<00:09, 235.63it/s]\u001b[A\n",
      " 41%|████      | 1537/3755 [00:07<00:09, 236.24it/s]\u001b[A\n",
      " 42%|████▏     | 1561/3755 [00:07<00:09, 234.91it/s]\u001b[A\n",
      " 42%|████▏     | 1585/3755 [00:07<00:09, 236.36it/s]\u001b[A\n",
      " 43%|████▎     | 1611/3755 [00:07<00:08, 243.19it/s]\u001b[A\n",
      " 44%|████▎     | 1640/3755 [00:07<00:08, 256.78it/s]\u001b[A\n",
      " 44%|████▍     | 1669/3755 [00:07<00:07, 266.22it/s]\u001b[A\n",
      " 45%|████▌     | 1697/3755 [00:07<00:07, 270.08it/s]\u001b[A\n",
      " 46%|████▌     | 1729/3755 [00:08<00:07, 283.04it/s]\u001b[A\n",
      " 47%|████▋     | 1759/3755 [00:08<00:06, 285.87it/s]\u001b[A\n",
      " 48%|████▊     | 1789/3755 [00:08<00:06, 289.27it/s]\u001b[A\n",
      " 48%|████▊     | 1819/3755 [00:08<00:06, 290.57it/s]\u001b[A\n",
      " 49%|████▉     | 1849/3755 [00:08<00:06, 284.58it/s]\u001b[A\n",
      " 50%|█████     | 1878/3755 [00:08<00:09, 206.66it/s]\u001b[A\n",
      " 51%|█████     | 1902/3755 [00:08<00:09, 187.28it/s]\u001b[A\n",
      " 51%|█████     | 1924/3755 [00:08<00:10, 179.00it/s]\u001b[A\n",
      " 52%|█████▏    | 1955/3755 [00:09<00:08, 207.67it/s]\u001b[A\n",
      " 53%|█████▎    | 1982/3755 [00:09<00:07, 222.52it/s]\u001b[A\n",
      " 53%|█████▎    | 2007/3755 [00:09<00:07, 227.61it/s]\u001b[A\n",
      " 54%|█████▍    | 2032/3755 [00:09<00:07, 227.14it/s]\u001b[A\n",
      " 55%|█████▍    | 2056/3755 [00:09<00:07, 222.17it/s]\u001b[A\n",
      " 55%|█████▌    | 2079/3755 [00:09<00:07, 216.68it/s]\u001b[A\n",
      " 56%|█████▌    | 2102/3755 [00:09<00:07, 209.04it/s]\u001b[A\n",
      " 57%|█████▋    | 2127/3755 [00:09<00:07, 218.21it/s]\u001b[A\n",
      " 57%|█████▋    | 2150/3755 [00:09<00:07, 207.81it/s]\u001b[A\n",
      " 58%|█████▊    | 2173/3755 [00:10<00:07, 211.81it/s]\u001b[A\n",
      " 59%|█████▊    | 2201/3755 [00:10<00:06, 230.44it/s]\u001b[A\n",
      " 59%|█████▉    | 2230/3755 [00:10<00:06, 246.91it/s]\u001b[A\n",
      " 60%|██████    | 2261/3755 [00:10<00:05, 262.43it/s]\u001b[A\n",
      " 61%|██████    | 2291/3755 [00:10<00:05, 272.85it/s]\u001b[A\n",
      " 62%|██████▏   | 2321/3755 [00:10<00:05, 280.64it/s]\u001b[A\n",
      " 63%|██████▎   | 2350/3755 [00:10<00:05, 279.35it/s]\u001b[A\n",
      " 63%|██████▎   | 2382/3755 [00:10<00:04, 289.36it/s]\u001b[A\n",
      " 64%|██████▍   | 2412/3755 [00:10<00:04, 290.83it/s]\u001b[A\n",
      " 65%|██████▌   | 2443/3755 [00:11<00:04, 296.04it/s]\u001b[A\n",
      " 66%|██████▌   | 2474/3755 [00:11<00:04, 298.81it/s]\u001b[A\n",
      " 67%|██████▋   | 2504/3755 [00:11<00:04, 286.87it/s]\u001b[A\n",
      " 67%|██████▋   | 2533/3755 [00:11<00:04, 257.46it/s]\u001b[A\n",
      " 68%|██████▊   | 2560/3755 [00:11<00:04, 247.44it/s]\u001b[A\n",
      " 69%|██████▉   | 2586/3755 [00:11<00:05, 231.41it/s]\u001b[A\n",
      " 70%|██████▉   | 2610/3755 [00:11<00:05, 214.37it/s]\u001b[A\n",
      " 70%|███████   | 2632/3755 [00:11<00:05, 212.75it/s]\u001b[A\n",
      " 71%|███████   | 2654/3755 [00:11<00:05, 205.54it/s]\u001b[A\n",
      " 71%|███████   | 2675/3755 [00:12<00:05, 206.71it/s]\u001b[A\n",
      " 72%|███████▏  | 2697/3755 [00:12<00:05, 208.33it/s]\u001b[A\n",
      " 72%|███████▏  | 2721/3755 [00:12<00:04, 216.11it/s]\u001b[A\n",
      " 73%|███████▎  | 2745/3755 [00:12<00:04, 220.58it/s]\u001b[A\n",
      " 74%|███████▎  | 2768/3755 [00:12<00:04, 218.38it/s]\u001b[A\n",
      " 74%|███████▍  | 2790/3755 [00:12<00:04, 208.87it/s]\u001b[A\n",
      " 75%|███████▍  | 2813/3755 [00:12<00:04, 211.68it/s]\u001b[A\n",
      " 75%|███████▌  | 2835/3755 [00:12<00:04, 210.73it/s]\u001b[A\n",
      " 76%|███████▌  | 2857/3755 [00:12<00:04, 186.08it/s]\u001b[A\n",
      " 77%|███████▋  | 2877/3755 [00:13<00:04, 183.80it/s]\u001b[A\n",
      " 77%|███████▋  | 2896/3755 [00:13<00:04, 184.52it/s]\u001b[A\n",
      " 78%|███████▊  | 2915/3755 [00:13<00:04, 173.31it/s]\u001b[A\n",
      " 78%|███████▊  | 2933/3755 [00:13<00:04, 168.48it/s]\u001b[A\n",
      " 79%|███████▊  | 2951/3755 [00:13<00:05, 160.73it/s]\u001b[A\n",
      " 79%|███████▉  | 2973/3755 [00:13<00:04, 175.04it/s]\u001b[A\n",
      " 80%|███████▉  | 2996/3755 [00:13<00:04, 186.81it/s]\u001b[A\n",
      " 80%|████████  | 3020/3755 [00:13<00:03, 199.79it/s]\u001b[A\n",
      " 81%|████████  | 3042/3755 [00:13<00:03, 204.78it/s]\u001b[A\n",
      " 82%|████████▏ | 3063/3755 [00:14<00:03, 194.57it/s]\u001b[A\n",
      " 82%|████████▏ | 3083/3755 [00:14<00:03, 194.23it/s]\u001b[A\n",
      " 83%|████████▎ | 3103/3755 [00:14<00:03, 193.86it/s]\u001b[A\n",
      " 83%|████████▎ | 3124/3755 [00:14<00:03, 196.39it/s]\u001b[A\n",
      " 84%|████████▎ | 3144/3755 [00:14<00:03, 197.37it/s]\u001b[A\n",
      " 84%|████████▍ | 3169/3755 [00:14<00:02, 212.46it/s]\u001b[A\n",
      " 85%|████████▌ | 3193/3755 [00:14<00:02, 220.05it/s]\u001b[A\n",
      " 86%|████████▌ | 3218/3755 [00:14<00:02, 228.62it/s]\u001b[A\n",
      " 86%|████████▋ | 3244/3755 [00:14<00:02, 235.94it/s]\u001b[A\n",
      " 87%|████████▋ | 3270/3755 [00:14<00:02, 239.23it/s]\u001b[A\n",
      " 88%|████████▊ | 3295/3755 [00:15<00:01, 239.91it/s]\u001b[A\n",
      " 88%|████████▊ | 3320/3755 [00:15<00:01, 242.38it/s]\u001b[A\n",
      " 89%|████████▉ | 3345/3755 [00:15<00:01, 237.65it/s]\u001b[A\n",
      " 90%|████████▉ | 3372/3755 [00:15<00:01, 246.85it/s]\u001b[A\n",
      " 91%|█████████ | 3405/3755 [00:15<00:01, 268.89it/s]\u001b[A\n",
      " 92%|█████████▏| 3436/3755 [00:15<00:01, 279.93it/s]\u001b[A\n",
      " 92%|█████████▏| 3466/3755 [00:15<00:01, 281.97it/s]\u001b[A\n",
      " 93%|█████████▎| 3495/3755 [00:15<00:00, 267.99it/s]\u001b[A\n",
      " 94%|█████████▍| 3522/3755 [00:15<00:00, 262.20it/s]\u001b[A\n",
      " 95%|█████████▍| 3549/3755 [00:16<00:00, 257.55it/s]\u001b[A\n",
      " 95%|█████████▌| 3575/3755 [00:16<00:00, 253.00it/s]\u001b[A\n",
      " 96%|█████████▌| 3601/3755 [00:16<00:00, 239.57it/s]\u001b[A\n",
      " 97%|█████████▋| 3626/3755 [00:16<00:00, 227.20it/s]\u001b[A\n",
      " 97%|█████████▋| 3649/3755 [00:16<00:00, 225.77it/s]\u001b[A\n",
      " 98%|█████████▊| 3672/3755 [00:16<00:00, 222.03it/s]\u001b[A\n",
      " 98%|█████████▊| 3695/3755 [00:16<00:00, 207.52it/s]\u001b[A\n",
      " 99%|█████████▉| 3716/3755 [00:17<00:00, 145.80it/s]\u001b[A\n",
      " 99%|█████████▉| 3734/3755 [00:17<00:00, 140.58it/s]\u001b[A\n",
      "100%|██████████| 3755/3755 [00:17<00:00, 215.70it/s]\u001b[A\n"
     ]
    }
   ],
   "source": [
    "# Find language and preprocess data\n",
    "language_test = [guess_language(x) for x in tqdm(test_df['tweetText'])]\n"
   ]
  },
  {
   "cell_type": "code",
   "execution_count": 31,
   "metadata": {},
   "outputs": [
    {
     "name": "stdout",
     "output_type": "stream",
     "text": [
      "Total number of unknown tweet languages is 2\n",
      "Original dataset length 3755 \n",
      "\n",
      "Only english tweets dataset length 3517 \n",
      "\n",
      "fake    2368\n",
      "real    1149\n",
      "Name: label, dtype: int64\n"
     ]
    }
   ],
   "source": [
    "nr = 0\n",
    "for lan in language_test:\n",
    "    if lan == 'unknown':\n",
    "        nr += 1\n",
    "        \n",
    "print(f'Total number of unknown tweet languages is {nr}')\n",
    "\n",
    "test_df['language'] = language_test\n",
    "test_en_df = test_df[test_df['language'] == 'en'].copy()\n",
    "\n",
    "print(f'Original dataset length {len(test_df)} \\n')\n",
    "print(f'Only english tweets dataset length {len(test_en_df)} \\n')\n",
    "\n",
    "print(test_en_df.label.value_counts())"
   ]
  },
  {
   "cell_type": "code",
   "execution_count": 47,
   "metadata": {},
   "outputs": [
    {
     "name": "stderr",
     "output_type": "stream",
     "text": [
      "  0%|          | 1/3517 [00:00<08:57,  6.55it/s]"
     ]
    },
    {
     "name": "stdout",
     "output_type": "stream",
     "text": [
      "Empty rare_words, creating one...\n"
     ]
    },
    {
     "name": "stderr",
     "output_type": "stream",
     "text": [
      "100%|██████████| 3517/3517 [22:25<00:00,  2.61it/s]  \n"
     ]
    }
   ],
   "source": [
    "parsed_tweets = []\n",
    "\n",
    "for tweet in tqdm(test_en_df['tweetText']):\n",
    "    parsed_tweets.append(preprocess_tweet(test_en_df, tweet))"
   ]
  },
  {
   "cell_type": "code",
   "execution_count": 49,
   "metadata": {},
   "outputs": [],
   "source": [
    "test_en_df['preprocessedTweets'] = parsed_tweets"
   ]
  },
  {
   "cell_type": "code",
   "execution_count": 51,
   "metadata": {},
   "outputs": [
    {
     "data": {
      "text/html": [
       "<div>\n",
       "<style scoped>\n",
       "    .dataframe tbody tr th:only-of-type {\n",
       "        vertical-align: middle;\n",
       "    }\n",
       "\n",
       "    .dataframe tbody tr th {\n",
       "        vertical-align: top;\n",
       "    }\n",
       "\n",
       "    .dataframe thead th {\n",
       "        text-align: right;\n",
       "    }\n",
       "</style>\n",
       "<table border=\"1\" class=\"dataframe\">\n",
       "  <thead>\n",
       "    <tr style=\"text-align: right;\">\n",
       "      <th></th>\n",
       "      <th>tweetId</th>\n",
       "      <th>tweetText</th>\n",
       "      <th>userId</th>\n",
       "      <th>imageId(s)</th>\n",
       "      <th>username</th>\n",
       "      <th>timestamp</th>\n",
       "      <th>label</th>\n",
       "      <th>language</th>\n",
       "      <th>preprocessedTweets</th>\n",
       "    </tr>\n",
       "  </thead>\n",
       "  <tbody>\n",
       "    <tr>\n",
       "      <th>137</th>\n",
       "      <td>578945859028680704</td>\n",
       "      <td>“@universetoday: \"Thierry Legault Captures ISS Transit of the Sun — During Eclipse!\" http://t.co/415o5DKl60 http://t.co/EXGxz6D6Kz”</td>\n",
       "      <td>573000773</td>\n",
       "      <td>eclipse_09</td>\n",
       "      <td>fabe147gta</td>\n",
       "      <td>Fri Mar 20 15:47:03 +0000 2015</td>\n",
       "      <td>real</td>\n",
       "      <td>en</td>\n",
       "      <td>thierry legal capture iss transit sun eclipse url url</td>\n",
       "    </tr>\n",
       "    <tr>\n",
       "      <th>138</th>\n",
       "      <td>578944371891912704</td>\n",
       "      <td>Thierry Legault Captures ISS Transit of the Sun — During Eclipse! http://t.co/EDKDmBbAQS http://t.co/zoeN9YUJbn</td>\n",
       "      <td>128005762</td>\n",
       "      <td>eclipse_10</td>\n",
       "      <td>BrandynsBuddies</td>\n",
       "      <td>Fri Mar 20 15:41:09 +0000 2015</td>\n",
       "      <td>real</td>\n",
       "      <td>en</td>\n",
       "      <td>thierry legal capture iss transit sun eclipse url url</td>\n",
       "    </tr>\n",
       "    <tr>\n",
       "      <th>139</th>\n",
       "      <td>578944375608119297</td>\n",
       "      <td>Thierry Legault Captures ISS Transit of the Sun — During Eclipse! http://t.co/bFTxBntaYR http://t.co/bgxPejjVUt</td>\n",
       "      <td>275921689</td>\n",
       "      <td>eclipse_10</td>\n",
       "      <td>Kid604</td>\n",
       "      <td>Fri Mar 20 15:41:10 +0000 2015</td>\n",
       "      <td>real</td>\n",
       "      <td>en</td>\n",
       "      <td>thierry legal capture iss transit sun eclipse url url</td>\n",
       "    </tr>\n",
       "    <tr>\n",
       "      <th>140</th>\n",
       "      <td>579004264628011008</td>\n",
       "      <td>WOW!! “@universetoday: \"Thierry Legault Captures ISS Transit of the Sun — During Eclipse!\" http://t.co/sVSzbpHpMP http://t.co/6PMR2RgsOk”</td>\n",
       "      <td>581677976</td>\n",
       "      <td>eclipse_09</td>\n",
       "      <td>NotTHATAndyCole</td>\n",
       "      <td>Fri Mar 20 19:39:08 +0000 2015</td>\n",
       "      <td>real</td>\n",
       "      <td>en</td>\n",
       "      <td>wow thierry legal capture iss transit sun eclipse url url</td>\n",
       "    </tr>\n",
       "    <tr>\n",
       "      <th>141</th>\n",
       "      <td>579069464932581376</td>\n",
       "      <td>Good work! RT @universetoday: Thierry Legault shoots ISS Transit of the Sun — During Eclipse! http://t.co/L4lGLGQEqd http://t.co/eVMeJA0BVr</td>\n",
       "      <td>239092923</td>\n",
       "      <td>eclipse_09</td>\n",
       "      <td>william_e_james</td>\n",
       "      <td>Fri Mar 20 23:58:13 +0000 2015</td>\n",
       "      <td>real</td>\n",
       "      <td>en</td>\n",
       "      <td>good work usermention thierry legal shoot iss transit sun eclipse url url</td>\n",
       "    </tr>\n",
       "    <tr>\n",
       "      <th>142</th>\n",
       "      <td>579050534230847488</td>\n",
       "      <td>Amazing!“@universetoday: \"Thierry Legault Captures ISS Transit of the Sun — During Eclipse!\" http://t.co/KwC0irwhJx ” http://t.co/hmBJ99oQZE</td>\n",
       "      <td>1243027705</td>\n",
       "      <td>eclipse_08</td>\n",
       "      <td>Space___Geek</td>\n",
       "      <td>Fri Mar 20 22:43:00 +0000 2015</td>\n",
       "      <td>real</td>\n",
       "      <td>en</td>\n",
       "      <td>thierry legal capture iss transit sun eclipse url url</td>\n",
       "    </tr>\n",
       "    <tr>\n",
       "      <th>143</th>\n",
       "      <td>578953125291278336</td>\n",
       "      <td>RT @universetoday: \"Thierry Legault Captures ISS Transit of the Sun — During Eclipse!\" http://t.co/cm1Tcv5xOO http://t.co/NbgqXNAoQj</td>\n",
       "      <td>449923192</td>\n",
       "      <td>eclipse_09</td>\n",
       "      <td>astroparticule</td>\n",
       "      <td>Fri Mar 20 16:15:56 +0000 2015</td>\n",
       "      <td>real</td>\n",
       "      <td>en</td>\n",
       "      <td>usermention thierry legal capture iss transit sun eclipse url url</td>\n",
       "    </tr>\n",
       "    <tr>\n",
       "      <th>144</th>\n",
       "      <td>578946879024685056</td>\n",
       "      <td>WOW! RT @universetoday: Thierry Legault Captures ISS Transit of the Sun — During Eclipse! http://t.co/0czpInuLQf http://t.co/sd7zyXDBdl #fb</td>\n",
       "      <td>15715020</td>\n",
       "      <td>eclipse_09</td>\n",
       "      <td>jorgecandeias</td>\n",
       "      <td>Fri Mar 20 15:51:06 +0000 2015</td>\n",
       "      <td>real</td>\n",
       "      <td>en</td>\n",
       "      <td>wow usermention thierry legal capture iss transit sun eclipse url url fb</td>\n",
       "    </tr>\n",
       "    <tr>\n",
       "      <th>145</th>\n",
       "      <td>578948430313234432</td>\n",
       "      <td>Amazing! RT @universetoday: \"Thierry Legault Captures ISS Transit of the Sun During Eclipse!\" http://t.co/qUOKRwtU3W http://t.co/CYOipOZN8m</td>\n",
       "      <td>49628435</td>\n",
       "      <td>eclipse_09</td>\n",
       "      <td>dejandular</td>\n",
       "      <td>Fri Mar 20 15:57:16 +0000 2015</td>\n",
       "      <td>real</td>\n",
       "      <td>en</td>\n",
       "      <td>amaze usermention thierry legal capture iss transit sun eclipse url url</td>\n",
       "    </tr>\n",
       "    <tr>\n",
       "      <th>146</th>\n",
       "      <td>578944882712186880</td>\n",
       "      <td>Thierry Legault Captures ISS Transit of the Sun — During Eclipse! http://t.co/sfNtWfuDLc http://t.co/7LoCpMTLsn</td>\n",
       "      <td>24129206</td>\n",
       "      <td>eclipse_09</td>\n",
       "      <td>universetoday</td>\n",
       "      <td>Fri Mar 20 15:43:10 +0000 2015</td>\n",
       "      <td>real</td>\n",
       "      <td>en</td>\n",
       "      <td>thierry legal capture iss transit sun eclipse url url</td>\n",
       "    </tr>\n",
       "    <tr>\n",
       "      <th>147</th>\n",
       "      <td>579124088410644480</td>\n",
       "      <td>RT @universetoday: \"Thierry Legault Captures ISS Transit of the Sun — During Eclipse!\" http://t.co/3BkpYZORv1 http://t.co/4o5Sg8nO94</td>\n",
       "      <td>1351326576</td>\n",
       "      <td>eclipse_09</td>\n",
       "      <td>plutosgems</td>\n",
       "      <td>Sat Mar 21 03:35:16 +0000 2015</td>\n",
       "      <td>real</td>\n",
       "      <td>en</td>\n",
       "      <td>usermention thierry legal capture iss transit sun eclipse url url</td>\n",
       "    </tr>\n",
       "    <tr>\n",
       "      <th>148</th>\n",
       "      <td>578960614749577216</td>\n",
       "      <td>He is good! RT @universetoday: \"Thierry Legault Captures ISS Transit of Sun During Eclipse!\" http://t.co/bTkqFealxJ http://t.co/QNiZCiRk13</td>\n",
       "      <td>15434432</td>\n",
       "      <td>eclipse_09</td>\n",
       "      <td>WinObs</td>\n",
       "      <td>Fri Mar 20 16:45:41 +0000 2015</td>\n",
       "      <td>real</td>\n",
       "      <td>en</td>\n",
       "      <td>good usermention thierry legal capture iss transit sun eclipse url url</td>\n",
       "    </tr>\n",
       "    <tr>\n",
       "      <th>149</th>\n",
       "      <td>579016447747325953</td>\n",
       "      <td>@PicPedant ? @ObservingSpace Solar eclipse with an ISS transit over Spain \\nCredit: T. Legault http://t.co/M4hW2bPeMW http://t.co/zJQxXZ8VtS</td>\n",
       "      <td>21036658</td>\n",
       "      <td>eclipse_08</td>\n",
       "      <td>mike_rawlins</td>\n",
       "      <td>Fri Mar 20 20:27:33 +0000 2015</td>\n",
       "      <td>real</td>\n",
       "      <td>en</td>\n",
       "      <td>usermention usermention solar eclipse iss transit spain credit legal url url</td>\n",
       "    </tr>\n",
       "    <tr>\n",
       "      <th>150</th>\n",
       "      <td>578986740096045056</td>\n",
       "      <td>Wow! RT @ObservingSpace: Solar eclipse with an ISS transit over Spain \\nCredit: T. Legault http://t.co/qEZAq0ef63 http://t.co/Rx7TFpo3rl</td>\n",
       "      <td>14451705</td>\n",
       "      <td>eclipse_08</td>\n",
       "      <td>andygates</td>\n",
       "      <td>Fri Mar 20 18:29:30 +0000 2015</td>\n",
       "      <td>real</td>\n",
       "      <td>en</td>\n",
       "      <td>wow usermention solar eclipse iss transit spain credit legal url url</td>\n",
       "    </tr>\n",
       "    <tr>\n",
       "      <th>151</th>\n",
       "      <td>578986743795474432</td>\n",
       "      <td>Wow! RT @ObservingSpace: Solar eclipse with an ISS transit over Spain \\nCredit: T. Legault http://t.co/HMa4GHft8H http://t.co/tJtE7odgUh</td>\n",
       "      <td>395263528</td>\n",
       "      <td>eclipse_08</td>\n",
       "      <td>BrockworthBajr</td>\n",
       "      <td>Fri Mar 20 18:29:31 +0000 2015</td>\n",
       "      <td>real</td>\n",
       "      <td>en</td>\n",
       "      <td>wow usermention solar eclipse iss transit spain credit legal url url</td>\n",
       "    </tr>\n",
       "    <tr>\n",
       "      <th>152</th>\n",
       "      <td>578983474125746176</td>\n",
       "      <td>Holy cow! RT @ObservingSpace: Solar eclipse with an ISS transit over Spain \\nCredit: T. Legault http://t.co/H9j5JfMqZi http://t.co/HME2yQDz3e</td>\n",
       "      <td>14090323</td>\n",
       "      <td>eclipse_08</td>\n",
       "      <td>hauck</td>\n",
       "      <td>Fri Mar 20 18:16:31 +0000 2015</td>\n",
       "      <td>real</td>\n",
       "      <td>en</td>\n",
       "      <td>holy cow usermention solar eclipse iss transit spain credit legal url url</td>\n",
       "    </tr>\n",
       "    <tr>\n",
       "      <th>153</th>\n",
       "      <td>578982912596426752</td>\n",
       "      <td>OMG RT @ObservingSpace: Solar eclipse with an ISS transit over Spain \\nCredit: T. Legault http://t.co/5cUloQV8f2 http://t.co/vUJg5YooRS</td>\n",
       "      <td>14807898</td>\n",
       "      <td>eclipse_08</td>\n",
       "      <td>elakdawalla</td>\n",
       "      <td>Fri Mar 20 18:14:18 +0000 2015</td>\n",
       "      <td>real</td>\n",
       "      <td>en</td>\n",
       "      <td>omg usermention solar eclipse iss transit spain credit legal url url</td>\n",
       "    </tr>\n",
       "    <tr>\n",
       "      <th>154</th>\n",
       "      <td>579029763483942912</td>\n",
       "      <td>WAOUH! \"@ObservingSpace: Solar eclipse with an ISS transit over Spain \\nCredit: T. Legault #ISS #solareclipse http://t.co/eIAlo0FORP\"</td>\n",
       "      <td>17812024</td>\n",
       "      <td>eclipse_08</td>\n",
       "      <td>Chergaoui</td>\n",
       "      <td>Fri Mar 20 21:20:28 +0000 2015</td>\n",
       "      <td>real</td>\n",
       "      <td>en</td>\n",
       "      <td>watch usermention solar eclipse iss transit spain credit legal iss solareclipse url</td>\n",
       "    </tr>\n",
       "    <tr>\n",
       "      <th>155</th>\n",
       "      <td>578978321561563136</td>\n",
       "      <td>WOW MT @universetoday: @ThierryLegault Captures ISS Transit of the Sun — During Eclipse!\" http://t.co/vpY1FIMiSB http://t.co/LY5EKywAmU</td>\n",
       "      <td>15180686</td>\n",
       "      <td>eclipse_09</td>\n",
       "      <td>Nancy_A</td>\n",
       "      <td>Fri Mar 20 17:56:03 +0000 2015</td>\n",
       "      <td>real</td>\n",
       "      <td>en</td>\n",
       "      <td>wow mt usermention usermention capture iss transit sun eclipse url url</td>\n",
       "    </tr>\n",
       "    <tr>\n",
       "      <th>156</th>\n",
       "      <td>580145239245078530</td>\n",
       "      <td>“@DrFunkySpoon: Double eclipse! moon and ISS both passing in front of the Sun http://t.co/r1ON7BgY18 http://t.co/hprNY9Trbe” no way! Awesome</td>\n",
       "      <td>15870321</td>\n",
       "      <td>eclipse_08</td>\n",
       "      <td>dschwartzburg</td>\n",
       "      <td>Mon Mar 23 23:12:58 +0000 2015</td>\n",
       "      <td>real</td>\n",
       "      <td>en</td>\n",
       "      <td>double eclipse moon iss passing front sun url url way awesome</td>\n",
       "    </tr>\n",
       "  </tbody>\n",
       "</table>\n",
       "</div>"
      ],
      "text/plain": [
       "                tweetId  \\\n",
       "137  578945859028680704   \n",
       "138  578944371891912704   \n",
       "139  578944375608119297   \n",
       "140  579004264628011008   \n",
       "141  579069464932581376   \n",
       "142  579050534230847488   \n",
       "143  578953125291278336   \n",
       "144  578946879024685056   \n",
       "145  578948430313234432   \n",
       "146  578944882712186880   \n",
       "147  579124088410644480   \n",
       "148  578960614749577216   \n",
       "149  579016447747325953   \n",
       "150  578986740096045056   \n",
       "151  578986743795474432   \n",
       "152  578983474125746176   \n",
       "153  578982912596426752   \n",
       "154  579029763483942912   \n",
       "155  578978321561563136   \n",
       "156  580145239245078530   \n",
       "\n",
       "                                                                                                                                         tweetText  \\\n",
       "137  “@universetoday: \"Thierry Legault Captures ISS Transit of the Sun — During Eclipse!\" http://t.co/415o5DKl60 http://t.co/EXGxz6D6Kz”             \n",
       "138  Thierry Legault Captures ISS Transit of the Sun — During Eclipse! http://t.co/EDKDmBbAQS http://t.co/zoeN9YUJbn                                 \n",
       "139  Thierry Legault Captures ISS Transit of the Sun — During Eclipse! http://t.co/bFTxBntaYR http://t.co/bgxPejjVUt                                 \n",
       "140  WOW!! “@universetoday: \"Thierry Legault Captures ISS Transit of the Sun — During Eclipse!\" http://t.co/sVSzbpHpMP http://t.co/6PMR2RgsOk”       \n",
       "141  Good work! RT @universetoday: Thierry Legault shoots ISS Transit of the Sun — During Eclipse! http://t.co/L4lGLGQEqd http://t.co/eVMeJA0BVr     \n",
       "142  Amazing!“@universetoday: \"Thierry Legault Captures ISS Transit of the Sun — During Eclipse!\" http://t.co/KwC0irwhJx ” http://t.co/hmBJ99oQZE    \n",
       "143  RT @universetoday: \"Thierry Legault Captures ISS Transit of the Sun — During Eclipse!\" http://t.co/cm1Tcv5xOO http://t.co/NbgqXNAoQj            \n",
       "144  WOW! RT @universetoday: Thierry Legault Captures ISS Transit of the Sun — During Eclipse! http://t.co/0czpInuLQf http://t.co/sd7zyXDBdl #fb     \n",
       "145  Amazing! RT @universetoday: \"Thierry Legault Captures ISS Transit of the Sun During Eclipse!\" http://t.co/qUOKRwtU3W http://t.co/CYOipOZN8m     \n",
       "146  Thierry Legault Captures ISS Transit of the Sun — During Eclipse! http://t.co/sfNtWfuDLc http://t.co/7LoCpMTLsn                                 \n",
       "147  RT @universetoday: \"Thierry Legault Captures ISS Transit of the Sun — During Eclipse!\" http://t.co/3BkpYZORv1 http://t.co/4o5Sg8nO94            \n",
       "148  He is good! RT @universetoday: \"Thierry Legault Captures ISS Transit of Sun During Eclipse!\" http://t.co/bTkqFealxJ http://t.co/QNiZCiRk13      \n",
       "149  @PicPedant ? @ObservingSpace Solar eclipse with an ISS transit over Spain \\nCredit: T. Legault http://t.co/M4hW2bPeMW http://t.co/zJQxXZ8VtS    \n",
       "150  Wow! RT @ObservingSpace: Solar eclipse with an ISS transit over Spain \\nCredit: T. Legault http://t.co/qEZAq0ef63 http://t.co/Rx7TFpo3rl        \n",
       "151  Wow! RT @ObservingSpace: Solar eclipse with an ISS transit over Spain \\nCredit: T. Legault http://t.co/HMa4GHft8H http://t.co/tJtE7odgUh        \n",
       "152  Holy cow! RT @ObservingSpace: Solar eclipse with an ISS transit over Spain \\nCredit: T. Legault http://t.co/H9j5JfMqZi http://t.co/HME2yQDz3e   \n",
       "153  OMG RT @ObservingSpace: Solar eclipse with an ISS transit over Spain \\nCredit: T. Legault http://t.co/5cUloQV8f2 http://t.co/vUJg5YooRS         \n",
       "154  WAOUH! \"@ObservingSpace: Solar eclipse with an ISS transit over Spain \\nCredit: T. Legault #ISS #solareclipse http://t.co/eIAlo0FORP\"           \n",
       "155  WOW MT @universetoday: @ThierryLegault Captures ISS Transit of the Sun — During Eclipse!\" http://t.co/vpY1FIMiSB http://t.co/LY5EKywAmU         \n",
       "156  “@DrFunkySpoon: Double eclipse! moon and ISS both passing in front of the Sun http://t.co/r1ON7BgY18 http://t.co/hprNY9Trbe” no way! Awesome    \n",
       "\n",
       "         userId   imageId(s)         username                       timestamp  \\\n",
       "137  573000773   eclipse_09   fabe147gta       Fri Mar 20 15:47:03 +0000 2015   \n",
       "138  128005762   eclipse_10   BrandynsBuddies  Fri Mar 20 15:41:09 +0000 2015   \n",
       "139  275921689   eclipse_10   Kid604           Fri Mar 20 15:41:10 +0000 2015   \n",
       "140  581677976   eclipse_09   NotTHATAndyCole  Fri Mar 20 19:39:08 +0000 2015   \n",
       "141  239092923   eclipse_09   william_e_james  Fri Mar 20 23:58:13 +0000 2015   \n",
       "142  1243027705  eclipse_08   Space___Geek     Fri Mar 20 22:43:00 +0000 2015   \n",
       "143  449923192   eclipse_09   astroparticule   Fri Mar 20 16:15:56 +0000 2015   \n",
       "144  15715020    eclipse_09   jorgecandeias    Fri Mar 20 15:51:06 +0000 2015   \n",
       "145  49628435    eclipse_09   dejandular       Fri Mar 20 15:57:16 +0000 2015   \n",
       "146  24129206    eclipse_09   universetoday    Fri Mar 20 15:43:10 +0000 2015   \n",
       "147  1351326576  eclipse_09   plutosgems       Sat Mar 21 03:35:16 +0000 2015   \n",
       "148  15434432    eclipse_09   WinObs           Fri Mar 20 16:45:41 +0000 2015   \n",
       "149  21036658    eclipse_08   mike_rawlins     Fri Mar 20 20:27:33 +0000 2015   \n",
       "150  14451705    eclipse_08   andygates        Fri Mar 20 18:29:30 +0000 2015   \n",
       "151  395263528   eclipse_08   BrockworthBajr   Fri Mar 20 18:29:31 +0000 2015   \n",
       "152  14090323    eclipse_08   hauck            Fri Mar 20 18:16:31 +0000 2015   \n",
       "153  14807898    eclipse_08   elakdawalla      Fri Mar 20 18:14:18 +0000 2015   \n",
       "154  17812024    eclipse_08   Chergaoui        Fri Mar 20 21:20:28 +0000 2015   \n",
       "155  15180686    eclipse_09   Nancy_A          Fri Mar 20 17:56:03 +0000 2015   \n",
       "156  15870321    eclipse_08   dschwartzburg    Mon Mar 23 23:12:58 +0000 2015   \n",
       "\n",
       "    label language  \\\n",
       "137  real  en        \n",
       "138  real  en        \n",
       "139  real  en        \n",
       "140  real  en        \n",
       "141  real  en        \n",
       "142  real  en        \n",
       "143  real  en        \n",
       "144  real  en        \n",
       "145  real  en        \n",
       "146  real  en        \n",
       "147  real  en        \n",
       "148  real  en        \n",
       "149  real  en        \n",
       "150  real  en        \n",
       "151  real  en        \n",
       "152  real  en        \n",
       "153  real  en        \n",
       "154  real  en        \n",
       "155  real  en        \n",
       "156  real  en        \n",
       "\n",
       "                                                                      preprocessedTweets  \n",
       "137  thierry legal capture iss transit sun eclipse url url                                \n",
       "138  thierry legal capture iss transit sun eclipse url url                                \n",
       "139  thierry legal capture iss transit sun eclipse url url                                \n",
       "140  wow thierry legal capture iss transit sun eclipse url url                            \n",
       "141  good work usermention thierry legal shoot iss transit sun eclipse url url            \n",
       "142  thierry legal capture iss transit sun eclipse url url                                \n",
       "143  usermention thierry legal capture iss transit sun eclipse url url                    \n",
       "144  wow usermention thierry legal capture iss transit sun eclipse url url fb             \n",
       "145  amaze usermention thierry legal capture iss transit sun eclipse url url              \n",
       "146  thierry legal capture iss transit sun eclipse url url                                \n",
       "147  usermention thierry legal capture iss transit sun eclipse url url                    \n",
       "148  good usermention thierry legal capture iss transit sun eclipse url url               \n",
       "149  usermention usermention solar eclipse iss transit spain credit legal url url         \n",
       "150  wow usermention solar eclipse iss transit spain credit legal url url                 \n",
       "151  wow usermention solar eclipse iss transit spain credit legal url url                 \n",
       "152  holy cow usermention solar eclipse iss transit spain credit legal url url            \n",
       "153  omg usermention solar eclipse iss transit spain credit legal url url                 \n",
       "154  watch usermention solar eclipse iss transit spain credit legal iss solareclipse url  \n",
       "155  wow mt usermention usermention capture iss transit sun eclipse url url               \n",
       "156  double eclipse moon iss passing front sun url url way awesome                        "
      ]
     },
     "execution_count": 51,
     "metadata": {},
     "output_type": "execute_result"
    }
   ],
   "source": [
    "test_en_df[test_en_df['label'] == 'real'][:20]"
   ]
  },
  {
   "cell_type": "code",
   "execution_count": null,
   "metadata": {},
   "outputs": [],
   "source": []
  }
 ],
 "metadata": {
  "kernelspec": {
   "display_name": "Python 3",
   "language": "python",
   "name": "python3"
  },
  "language_info": {
   "codemirror_mode": {
    "name": "ipython",
    "version": 3
   },
   "file_extension": ".py",
   "mimetype": "text/x-python",
   "name": "python",
   "nbconvert_exporter": "python",
   "pygments_lexer": "ipython3",
   "version": "3.8.3"
  }
 },
 "nbformat": 4,
 "nbformat_minor": 4
}
